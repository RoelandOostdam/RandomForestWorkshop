{
 "cells": [
  {
   "cell_type": "markdown",
   "metadata": {},
   "source": [
    "# Missing values"
   ]
  },
  {
   "cell_type": "code",
   "execution_count": 1,
   "metadata": {},
   "outputs": [],
   "source": [
    "import numpy as np\n",
    "import pandas as pd\n",
    "import matplotlib.pyplot as plt\n",
    "\n",
    "import random\n",
    "random.seed(430)\n",
    "\n",
    "from sklearn.metrics import accuracy_score\n",
    "from sklearn.ensemble import RandomForestClassifier\n",
    "from sklearn.model_selection import train_test_split\n",
    "\n",
    "import warnings\n",
    "warnings.simplefilter('ignore')"
   ]
  },
  {
   "cell_type": "markdown",
   "metadata": {},
   "source": [
    "We laden hier de heart-disease dataset in, maar we verwijderen allerlei random waarden in de test dataset.\n",
    "Wij gaan proberen om die waarden zo goed mogelijk in te vullen en een zo hoog mogelijke score te krijgen"
   ]
  },
  {
   "cell_type": "code",
   "execution_count": 2,
   "metadata": {},
   "outputs": [],
   "source": [
    "df = pd.read_csv(\"dataset/heart.csv\")\n",
    "df = df.drop(columns=['oldpeak','trestbps', 'fbs','cp','thal','slope'])\n",
    "X_train, X_test, y_train, y_test = train_test_split(df.drop(columns=['target']), df['target'], test_size=80, random_state=99)"
   ]
  },
  {
   "cell_type": "code",
   "execution_count": 3,
   "metadata": {},
   "outputs": [],
   "source": [
    "for index, row in X_test.iterrows():\n",
    "    for x in range(4):\n",
    "        col_to_clear = random.choice((X_test).columns)\n",
    "        X_test[col_to_clear][index] = np.nan"
   ]
  },
  {
   "cell_type": "code",
   "execution_count": 4,
   "metadata": {},
   "outputs": [
    {
     "name": "stdout",
     "output_type": "stream",
     "text": [
      "Train dataset size: 223\n",
      "Test dataset size 80\n"
     ]
    }
   ],
   "source": [
    "print(\"Train dataset size:\",X_train.shape[0])\n",
    "print(\"Test dataset size\", X_test.shape[0])"
   ]
  },
  {
   "cell_type": "markdown",
   "metadata": {},
   "source": [
    "Met deze functie kun je de accuracy van je invulling van missende waarden"
   ]
  },
  {
   "cell_type": "code",
   "execution_count": 5,
   "metadata": {},
   "outputs": [
    {
     "data": {
      "text/plain": [
       "RandomForestClassifier(bootstrap=True, ccp_alpha=0.0, class_weight=None,\n",
       "                       criterion='gini', max_depth=None, max_features=4,\n",
       "                       max_leaf_nodes=None, max_samples=None,\n",
       "                       min_impurity_decrease=0.0, min_impurity_split=None,\n",
       "                       min_samples_leaf=1, min_samples_split=10,\n",
       "                       min_weight_fraction_leaf=0.0, n_estimators=30,\n",
       "                       n_jobs=None, oob_score=False, random_state=300,\n",
       "                       verbose=0, warm_start=False)"
      ]
     },
     "execution_count": 5,
     "metadata": {},
     "output_type": "execute_result"
    }
   ],
   "source": [
    "clf = RandomForestClassifier(random_state=300, n_estimators=30, max_features=4, min_samples_split=10)\n",
    "clf"
   ]
  },
  {
   "cell_type": "code",
   "execution_count": 6,
   "metadata": {},
   "outputs": [],
   "source": [
    "def test_model(clf, X_train, X_test, y_train, y_test):\n",
    "    clf.fit(X_train, y_train)\n",
    "    y_pred = clf.predict(X_test)\n",
    "    return accuracy_score(y_pred, y_test)"
   ]
  },
  {
   "cell_type": "markdown",
   "metadata": {},
   "source": [
    "Je ziet hieronder dat er aardig wat waarden missen"
   ]
  },
  {
   "cell_type": "code",
   "execution_count": 7,
   "metadata": {},
   "outputs": [
    {
     "data": {
      "text/html": [
       "<div>\n",
       "<style scoped>\n",
       "    .dataframe tbody tr th:only-of-type {\n",
       "        vertical-align: middle;\n",
       "    }\n",
       "\n",
       "    .dataframe tbody tr th {\n",
       "        vertical-align: top;\n",
       "    }\n",
       "\n",
       "    .dataframe thead th {\n",
       "        text-align: right;\n",
       "    }\n",
       "</style>\n",
       "<table border=\"1\" class=\"dataframe\">\n",
       "  <thead>\n",
       "    <tr style=\"text-align: right;\">\n",
       "      <th></th>\n",
       "      <th>age</th>\n",
       "      <th>sex</th>\n",
       "      <th>chol</th>\n",
       "      <th>restecg</th>\n",
       "      <th>thalach</th>\n",
       "      <th>exang</th>\n",
       "      <th>ca</th>\n",
       "    </tr>\n",
       "  </thead>\n",
       "  <tbody>\n",
       "    <tr>\n",
       "      <th>137</th>\n",
       "      <td>NaN</td>\n",
       "      <td>NaN</td>\n",
       "      <td>NaN</td>\n",
       "      <td>0.0</td>\n",
       "      <td>140.0</td>\n",
       "      <td>NaN</td>\n",
       "      <td>0.0</td>\n",
       "    </tr>\n",
       "    <tr>\n",
       "      <th>262</th>\n",
       "      <td>53.0</td>\n",
       "      <td>NaN</td>\n",
       "      <td>NaN</td>\n",
       "      <td>NaN</td>\n",
       "      <td>95.0</td>\n",
       "      <td>1.0</td>\n",
       "      <td>2.0</td>\n",
       "    </tr>\n",
       "    <tr>\n",
       "      <th>43</th>\n",
       "      <td>53.0</td>\n",
       "      <td>NaN</td>\n",
       "      <td>NaN</td>\n",
       "      <td>0.0</td>\n",
       "      <td>143.0</td>\n",
       "      <td>0.0</td>\n",
       "      <td>NaN</td>\n",
       "    </tr>\n",
       "    <tr>\n",
       "      <th>90</th>\n",
       "      <td>NaN</td>\n",
       "      <td>NaN</td>\n",
       "      <td>255.0</td>\n",
       "      <td>NaN</td>\n",
       "      <td>NaN</td>\n",
       "      <td>0.0</td>\n",
       "      <td>2.0</td>\n",
       "    </tr>\n",
       "    <tr>\n",
       "      <th>32</th>\n",
       "      <td>NaN</td>\n",
       "      <td>NaN</td>\n",
       "      <td>219.0</td>\n",
       "      <td>NaN</td>\n",
       "      <td>188.0</td>\n",
       "      <td>0.0</td>\n",
       "      <td>0.0</td>\n",
       "    </tr>\n",
       "    <tr>\n",
       "      <th>61</th>\n",
       "      <td>54.0</td>\n",
       "      <td>NaN</td>\n",
       "      <td>NaN</td>\n",
       "      <td>1.0</td>\n",
       "      <td>156.0</td>\n",
       "      <td>NaN</td>\n",
       "      <td>NaN</td>\n",
       "    </tr>\n",
       "    <tr>\n",
       "      <th>72</th>\n",
       "      <td>29.0</td>\n",
       "      <td>NaN</td>\n",
       "      <td>NaN</td>\n",
       "      <td>NaN</td>\n",
       "      <td>202.0</td>\n",
       "      <td>0.0</td>\n",
       "      <td>NaN</td>\n",
       "    </tr>\n",
       "    <tr>\n",
       "      <th>10</th>\n",
       "      <td>54.0</td>\n",
       "      <td>NaN</td>\n",
       "      <td>NaN</td>\n",
       "      <td>1.0</td>\n",
       "      <td>NaN</td>\n",
       "      <td>0.0</td>\n",
       "      <td>0.0</td>\n",
       "    </tr>\n",
       "    <tr>\n",
       "      <th>240</th>\n",
       "      <td>70.0</td>\n",
       "      <td>NaN</td>\n",
       "      <td>269.0</td>\n",
       "      <td>1.0</td>\n",
       "      <td>112.0</td>\n",
       "      <td>NaN</td>\n",
       "      <td>NaN</td>\n",
       "    </tr>\n",
       "    <tr>\n",
       "      <th>111</th>\n",
       "      <td>NaN</td>\n",
       "      <td>1.0</td>\n",
       "      <td>126.0</td>\n",
       "      <td>NaN</td>\n",
       "      <td>NaN</td>\n",
       "      <td>NaN</td>\n",
       "      <td>1.0</td>\n",
       "    </tr>\n",
       "  </tbody>\n",
       "</table>\n",
       "</div>"
      ],
      "text/plain": [
       "      age  sex   chol  restecg  thalach  exang   ca\n",
       "137   NaN  NaN    NaN      0.0    140.0    NaN  0.0\n",
       "262  53.0  NaN    NaN      NaN     95.0    1.0  2.0\n",
       "43   53.0  NaN    NaN      0.0    143.0    0.0  NaN\n",
       "90    NaN  NaN  255.0      NaN      NaN    0.0  2.0\n",
       "32    NaN  NaN  219.0      NaN    188.0    0.0  0.0\n",
       "61   54.0  NaN    NaN      1.0    156.0    NaN  NaN\n",
       "72   29.0  NaN    NaN      NaN    202.0    0.0  NaN\n",
       "10   54.0  NaN    NaN      1.0      NaN    0.0  0.0\n",
       "240  70.0  NaN  269.0      1.0    112.0    NaN  NaN\n",
       "111   NaN  1.0  126.0      NaN      NaN    NaN  1.0"
      ]
     },
     "execution_count": 7,
     "metadata": {},
     "output_type": "execute_result"
    }
   ],
   "source": [
    "X_test.head(10)"
   ]
  },
  {
   "cell_type": "markdown",
   "metadata": {},
   "source": [
    "Als we alle NaN waarden naar 0 zetten krijgen we een score van 0.66"
   ]
  },
  {
   "cell_type": "code",
   "execution_count": 8,
   "metadata": {},
   "outputs": [
    {
     "data": {
      "text/plain": [
       "0.6375"
      ]
     },
     "execution_count": 8,
     "metadata": {},
     "output_type": "execute_result"
    }
   ],
   "source": [
    "# All nan values to 0\n",
    "test_model(clf, X_train, X_test.replace(np.nan,0), y_train, y_test)"
   ]
  },
  {
   "cell_type": "code",
   "execution_count": 9,
   "metadata": {},
   "outputs": [
    {
     "data": {
      "text/plain": [
       "Index(['age', 'sex', 'chol', 'restecg', 'thalach', 'exang', 'ca'], dtype='object')"
      ]
     },
     "execution_count": 9,
     "metadata": {},
     "output_type": "execute_result"
    }
   ],
   "source": [
    "X_train.columns"
   ]
  },
  {
   "cell_type": "code",
   "execution_count": 10,
   "metadata": {},
   "outputs": [
    {
     "data": {
      "text/html": [
       "<div>\n",
       "<style scoped>\n",
       "    .dataframe tbody tr th:only-of-type {\n",
       "        vertical-align: middle;\n",
       "    }\n",
       "\n",
       "    .dataframe tbody tr th {\n",
       "        vertical-align: top;\n",
       "    }\n",
       "\n",
       "    .dataframe thead th {\n",
       "        text-align: right;\n",
       "    }\n",
       "</style>\n",
       "<table border=\"1\" class=\"dataframe\">\n",
       "  <thead>\n",
       "    <tr style=\"text-align: right;\">\n",
       "      <th></th>\n",
       "      <th>age</th>\n",
       "      <th>sex</th>\n",
       "      <th>chol</th>\n",
       "      <th>restecg</th>\n",
       "      <th>thalach</th>\n",
       "      <th>exang</th>\n",
       "      <th>ca</th>\n",
       "    </tr>\n",
       "  </thead>\n",
       "  <tbody>\n",
       "    <tr>\n",
       "      <th>137</th>\n",
       "      <td>53.198276</td>\n",
       "      <td>1.0</td>\n",
       "      <td>239.086207</td>\n",
       "      <td>0.000000</td>\n",
       "      <td>140.000000</td>\n",
       "      <td>0.0</td>\n",
       "      <td>0.000000</td>\n",
       "    </tr>\n",
       "    <tr>\n",
       "      <th>262</th>\n",
       "      <td>53.000000</td>\n",
       "      <td>1.0</td>\n",
       "      <td>252.719626</td>\n",
       "      <td>0.439252</td>\n",
       "      <td>95.000000</td>\n",
       "      <td>1.0</td>\n",
       "      <td>2.000000</td>\n",
       "    </tr>\n",
       "    <tr>\n",
       "      <th>43</th>\n",
       "      <td>53.000000</td>\n",
       "      <td>1.0</td>\n",
       "      <td>239.086207</td>\n",
       "      <td>0.000000</td>\n",
       "      <td>143.000000</td>\n",
       "      <td>0.0</td>\n",
       "      <td>0.327586</td>\n",
       "    </tr>\n",
       "    <tr>\n",
       "      <th>90</th>\n",
       "      <td>53.198276</td>\n",
       "      <td>1.0</td>\n",
       "      <td>255.000000</td>\n",
       "      <td>0.594828</td>\n",
       "      <td>157.491379</td>\n",
       "      <td>0.0</td>\n",
       "      <td>2.000000</td>\n",
       "    </tr>\n",
       "    <tr>\n",
       "      <th>32</th>\n",
       "      <td>53.198276</td>\n",
       "      <td>1.0</td>\n",
       "      <td>219.000000</td>\n",
       "      <td>0.594828</td>\n",
       "      <td>188.000000</td>\n",
       "      <td>0.0</td>\n",
       "      <td>0.000000</td>\n",
       "    </tr>\n",
       "    <tr>\n",
       "      <th>61</th>\n",
       "      <td>54.000000</td>\n",
       "      <td>1.0</td>\n",
       "      <td>239.086207</td>\n",
       "      <td>1.000000</td>\n",
       "      <td>156.000000</td>\n",
       "      <td>0.0</td>\n",
       "      <td>0.327586</td>\n",
       "    </tr>\n",
       "    <tr>\n",
       "      <th>72</th>\n",
       "      <td>29.000000</td>\n",
       "      <td>1.0</td>\n",
       "      <td>239.086207</td>\n",
       "      <td>0.594828</td>\n",
       "      <td>202.000000</td>\n",
       "      <td>0.0</td>\n",
       "      <td>0.327586</td>\n",
       "    </tr>\n",
       "    <tr>\n",
       "      <th>10</th>\n",
       "      <td>54.000000</td>\n",
       "      <td>1.0</td>\n",
       "      <td>239.086207</td>\n",
       "      <td>1.000000</td>\n",
       "      <td>157.491379</td>\n",
       "      <td>0.0</td>\n",
       "      <td>0.000000</td>\n",
       "    </tr>\n",
       "    <tr>\n",
       "      <th>240</th>\n",
       "      <td>70.000000</td>\n",
       "      <td>1.0</td>\n",
       "      <td>269.000000</td>\n",
       "      <td>1.000000</td>\n",
       "      <td>112.000000</td>\n",
       "      <td>1.0</td>\n",
       "      <td>1.149533</td>\n",
       "    </tr>\n",
       "    <tr>\n",
       "      <th>111</th>\n",
       "      <td>53.198276</td>\n",
       "      <td>1.0</td>\n",
       "      <td>126.000000</td>\n",
       "      <td>0.594828</td>\n",
       "      <td>157.491379</td>\n",
       "      <td>0.0</td>\n",
       "      <td>1.000000</td>\n",
       "    </tr>\n",
       "  </tbody>\n",
       "</table>\n",
       "</div>"
      ],
      "text/plain": [
       "           age  sex        chol   restecg     thalach  exang        ca\n",
       "137  53.198276  1.0  239.086207  0.000000  140.000000    0.0  0.000000\n",
       "262  53.000000  1.0  252.719626  0.439252   95.000000    1.0  2.000000\n",
       "43   53.000000  1.0  239.086207  0.000000  143.000000    0.0  0.327586\n",
       "90   53.198276  1.0  255.000000  0.594828  157.491379    0.0  2.000000\n",
       "32   53.198276  1.0  219.000000  0.594828  188.000000    0.0  0.000000\n",
       "61   54.000000  1.0  239.086207  1.000000  156.000000    0.0  0.327586\n",
       "72   29.000000  1.0  239.086207  0.594828  202.000000    0.0  0.327586\n",
       "10   54.000000  1.0  239.086207  1.000000  157.491379    0.0  0.000000\n",
       "240  70.000000  1.0  269.000000  1.000000  112.000000    1.0  1.149533\n",
       "111  53.198276  1.0  126.000000  0.594828  157.491379    0.0  1.000000"
      ]
     },
     "execution_count": 10,
     "metadata": {},
     "output_type": "execute_result"
    }
   ],
   "source": [
    "# All nan values to most common of that target\n",
    "change_list = []\n",
    "train_temp = X_train.join(y_train)\n",
    "test_temp = X_test.join(y_test)\n",
    "for index, row in test_temp.iterrows():\n",
    "    row_set = False\n",
    "    for col, value in row.iteritems():\n",
    "        if np.isnan(value):\n",
    "            try:\n",
    "                if col in ['age','restecg','chol','thalach', 'ca']:\n",
    "                    m = train_temp[train_temp.target == row.target][col].mean()\n",
    "                else:\n",
    "                    m = train_temp[train_temp.target == row.target][col].mode()\n",
    "                X_test[col][index] = m\n",
    "            except:\n",
    "                X_test[col][index] = 0\n",
    "                print(\"Error:\",col)\n",
    "            \n",
    "            if row_set == False:\n",
    "                change_list.append((col,index))\n",
    "                row_set = True\n",
    "X_test.head(10)"
   ]
  },
  {
   "cell_type": "code",
   "execution_count": 11,
   "metadata": {},
   "outputs": [
    {
     "data": {
      "text/plain": [
       "0.8625"
      ]
     },
     "execution_count": 11,
     "metadata": {},
     "output_type": "execute_result"
    }
   ],
   "source": [
    "# All nan values to 0\n",
    "test_model(clf, X_train, X_test, y_train, y_test)"
   ]
  },
  {
   "cell_type": "markdown",
   "metadata": {},
   "source": [
    "# Proximity matrix"
   ]
  },
  {
   "cell_type": "code",
   "execution_count": 12,
   "metadata": {},
   "outputs": [
    {
     "data": {
      "text/plain": [
       "(223, 30)"
      ]
     },
     "execution_count": 12,
     "metadata": {},
     "output_type": "execute_result"
    }
   ],
   "source": [
    "clf.fit(X_train,y_train)\n",
    "leaves = clf.apply(X_train)\n",
    "leaves.shape"
   ]
  },
  {
   "cell_type": "code",
   "execution_count": 13,
   "metadata": {},
   "outputs": [],
   "source": [
    "# leaves"
   ]
  },
  {
   "cell_type": "code",
   "execution_count": 14,
   "metadata": {},
   "outputs": [
    {
     "data": {
      "text/plain": [
       "<matplotlib.colorbar.Colorbar at 0x252c81802c8>"
      ]
     },
     "execution_count": 14,
     "metadata": {},
     "output_type": "execute_result"
    },
    {
     "data": {
      "image/png": "[encoded data removed]",
      "text/plain": [
       "<Figure size 1080x720 with 2 Axes>"
      ]
     },
     "metadata": {
      "needs_background": "light"
     },
     "output_type": "display_data"
    }
   ],
   "source": [
    "# proximity_matrix = np.zeros([X_train.count()[0]+1, X_train.count()[0]+1])\n",
    "# print(proximity_matrix)\n",
    "proximity_matrix = np.zeros([X_train.count()[0], len(change_list)])\n",
    "n_trees = leaves.shape[1]\n",
    "\n",
    "for item_index, item in enumerate(change_list):\n",
    "    apl = clf.apply([X_test.loc[item[1]]])\n",
    "    \n",
    "    for tree_number in range(n_trees):\n",
    "        for index, leaf in enumerate(leaves.T[tree_number]):\n",
    "            if leaf == apl[0][tree_number]:\n",
    "                proximity_matrix[index, item_index] += 1 / n_trees\n",
    "                \n",
    "plt.figure(figsize=[15,10])\n",
    "plt.title(\"Proximity Matrix\")\n",
    "plt.xlabel('train')\n",
    "plt.ylabel(\"test\")\n",
    "proximity_matrix = (proximity_matrix/X_test.count()[0]).T\n",
    "plt.imshow(proximity_matrix, aspect='auto')\n",
    "plt.colorbar()"
   ]
  },
  {
   "cell_type": "code",
   "execution_count": 15,
   "metadata": {},
   "outputs": [
    {
     "data": {
      "text/plain": [
       "array([[0.00041667, 0.        , 0.        , ..., 0.00041667, 0.        ,\n",
       "        0.        ],\n",
       "       [0.        , 0.        , 0.        , ..., 0.00208333, 0.        ,\n",
       "        0.00125   ],\n",
       "       [0.00083333, 0.        , 0.        , ..., 0.00041667, 0.        ,\n",
       "        0.        ],\n",
       "       ...,\n",
       "       [0.00041667, 0.0025    , 0.00083333, ..., 0.        , 0.00083333,\n",
       "        0.        ],\n",
       "       [0.00041667, 0.00375   , 0.00166667, ..., 0.        , 0.00166667,\n",
       "        0.        ],\n",
       "       [0.        , 0.        , 0.        , ..., 0.        , 0.        ,\n",
       "        0.00125   ]])"
      ]
     },
     "execution_count": 15,
     "metadata": {},
     "output_type": "execute_result"
    }
   ],
   "source": [
    "proximity_matrix"
   ]
  },
  {
   "cell_type": "code",
   "execution_count": 29,
   "metadata": {},
   "outputs": [
    {
     "name": "stdout",
     "output_type": "stream",
     "text": [
      "53.19827586206897 -> 58.649704433497526\n",
      "1.0 -> 1\n",
      "1.0 -> 1\n",
      "53.19827586206897 -> 56.05327586206899\n",
      "53.19827586206897 -> 56.58506157635469\n",
      "1.0 -> 1\n",
      "1.0 -> 1\n",
      "1.0 -> 1\n",
      "1.0 -> 1\n",
      "53.19827586206897 -> 57.90149014778327\n",
      "56.149532710280376 -> 63.173461281708946\n",
      "239.08620689655172 -> 266.0004926108374\n",
      "1.0 -> 1\n",
      "239.08620689655172 -> 252.30834975369456\n",
      "53.19827586206897 -> 57.82113300492612\n",
      "53.19827586206897 -> 61.058633004926094\n",
      "239.08620689655172 -> 254.2476354679803\n",
      "53.19827586206897 -> 60.23684729064041\n",
      "56.149532710280376 -> 57.1513184245661\n",
      "56.149532710280376 -> 57.76881842456612\n",
      "53.19827586206897 -> 59.94577586206896\n",
      "1.0 -> 1\n",
      "239.08620689655172 -> 245.4862068965517\n",
      "157.49137931034483 -> 181.88495073891622\n",
      "1.0 -> 1\n",
      "56.149532710280376 -> 62.23203271028038\n",
      "1.0 -> 1\n",
      "53.19827586206897 -> 60.26184729064039\n",
      "56.149532710280376 -> 59.73667556742327\n",
      "1.0 -> 1\n",
      "1.0 -> 1\n",
      "1.0 -> 1\n",
      "1.0 -> 1\n",
      "1.0 -> 1\n",
      "1.0 -> 1\n",
      "56.149532710280376 -> 60.30596128170893\n",
      "252.7196261682243 -> 281.01819759679563\n",
      "56.149532710280376 -> 59.25988985313754\n",
      "56.149532710280376 -> 62.529889853137526\n",
      "1.0 -> 1\n",
      "1.0 -> 1\n",
      "1.0 -> 1\n",
      "53.19827586206897 -> 59.12684729064038\n",
      "56.149532710280376 -> 60.10346128170894\n",
      "53.19827586206897 -> 56.13934729064043\n",
      "53.19827586206897 -> 55.0943472906404\n",
      "239.08620689655172 -> 262.69049261083745\n",
      "53.19827586206897 -> 55.682918719211834\n",
      "53.19827586206897 -> 55.607204433497536\n",
      "252.7196261682243 -> 280.5328404539385\n",
      "53.19827586206897 -> 56.305418719211815\n",
      "53.19827586206897 -> 60.43649014778325\n",
      "1.0 -> 1\n",
      "1.0 -> 1\n",
      "0.5948275862068966 -> 0.6269704433497536\n",
      "53.19827586206897 -> 58.96756157635466\n",
      "1.0 -> 1\n",
      "53.19827586206897 -> 58.71220443349754\n",
      "56.149532710280376 -> 58.02238985313752\n",
      "56.149532710280376 -> 62.33631842456609\n",
      "53.19827586206897 -> 57.15041871921182\n",
      "1.0 -> 1\n",
      "239.08620689655172 -> 256.03656403940886\n",
      "1.0 -> 1\n",
      "53.19827586206897 -> 56.47291871921184\n",
      "53.19827586206897 -> 54.920418719211845\n",
      "56.149532710280376 -> 60.68953271028037\n",
      "1.0 -> 1\n",
      "1.0 -> 1\n",
      "56.149532710280376 -> 61.78631842456609\n",
      "252.7196261682243 -> 257.8646261682244\n",
      "53.19827586206897 -> 54.696490147783265\n",
      "1.0 -> 1\n",
      "139.71028037383178 -> 149.4402803738318\n",
      "53.19827586206897 -> 58.06863300492612\n",
      "1.0 -> 1\n",
      "56.149532710280376 -> 62.812389853137525\n",
      "0.5948275862068966 -> 0.6212561576354678\n",
      "157.49137931034483 -> 167.929236453202\n",
      "56.149532710280376 -> 58.24667556742323\n",
      "0.8625 --> 0.8625\n"
     ]
    }
   ],
   "source": [
    "X_test_proximity = X_test.copy()\n",
    "\n",
    "for item_index, item in enumerate(change_list):\n",
    "    cur_val = X_test_proximity[item[0]][item[1]]\n",
    "    \n",
    "    \n",
    "    \n",
    "    if item[0] in ['sex','fbs','exang']: # Binary\n",
    "        no_count, no_weight = 0, 1\n",
    "        yes_count, yes_weight = 0, 1\n",
    "        for i,x in enumerate(proximity_matrix[item_index]):\n",
    "            val = X_train[item[0]].iloc[i]\n",
    "            if val == 0:\n",
    "                yes_count+=1\n",
    "            elif val == 1:\n",
    "                no_count+=1\n",
    "                \n",
    "        tot_count = no_count + yes_count\n",
    "        yes = (no_count / tot_count) * (no_weight)\n",
    "        no = (yes_count / tot_count) * (yes_weight)\n",
    "        if yes > no:\n",
    "            new_val = 1\n",
    "        else:\n",
    "            new_val = 0\n",
    "    \n",
    "    else:\n",
    "        # Numeric\n",
    "        total = cur_val\n",
    "        for i,x in enumerate(proximity_matrix.T[item_index]):\n",
    "            val = X_train[item[0]].iloc[i]\n",
    "            total += (x * val) * (1-(1/X_test_proximity.shape[1]))\n",
    "\n",
    "        new_val = total\n",
    "    print(cur_val,'->',new_val)\n",
    "\n",
    "    X_test_proximity[item[0]][item[1]] = new_val   \n",
    "\n",
    "print(test_model(clf, X_train, X_test, y_train, y_test), '-->', \n",
    "      test_model(clf, X_train, X_test_proximity, y_train, y_test))"
   ]
  }
 ],
 "metadata": {
  "kernelspec": {
   "display_name": "Python 3",
   "language": "python",
   "name": "python3"
  },
  "language_info": {
   "codemirror_mode": {
    "name": "ipython",
    "version": 3
   },
   "file_extension": ".py",
   "mimetype": "text/x-python",
   "name": "python",
   "nbconvert_exporter": "python",
   "pygments_lexer": "ipython3",
   "version": "3.7.6"
  }
 },
 "nbformat": 4,
 "nbformat_minor": 1
}
