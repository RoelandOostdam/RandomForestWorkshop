{
 "cells": [
  {
   "cell_type": "markdown",
   "metadata": {},
   "source": [
    "# Deel 2: Missing Values/Proximity Matrix\n",
    "Wat zijn de grote krachten van een randomforest? Dat het relatief minder uitmaakt als bij andere algoritmes dat de data schoon is. Hieronder gaan we een paar oefeningen doen om deze missende data zo goed mogelijk te interpreteren."
   ]
  },
  {
   "cell_type": "code",
   "execution_count": 1,
   "metadata": {},
   "outputs": [],
   "source": [
    "import pandas as pd\n",
    "import matplotlib.pyplot as plt\n",
    "import numpy as np\n",
    "import random\n",
    "random.seed(630)\n",
    "import warnings\n",
    "import operator\n",
    "\n",
    "from sklearn.ensemble import RandomForestClassifier\n",
    "from sklearn.tree import DecisionTreeClassifier\n",
    "from sklearn.model_selection import train_test_split\n",
    "from sklearn.model_selection import GridSearchCV\n",
    "\n",
    "warnings.filterwarnings('ignore')"
   ]
  },
  {
   "cell_type": "markdown",
   "metadata": {},
   "source": [
    "We laden hier de heart-disease dataset in, maar we verwijderen allerlei random data uit de dataset.<br>\n",
    "Wij gaan proberen om die waarden zo goed mogelijk in te vullen en een zo hoog mogelijke score te krijgen."
   ]
  },
  {
   "cell_type": "code",
   "execution_count": 2,
   "metadata": {},
   "outputs": [
    {
     "data": {
      "text/html": [
       "<div>\n",
       "<style scoped>\n",
       "    .dataframe tbody tr th:only-of-type {\n",
       "        vertical-align: middle;\n",
       "    }\n",
       "\n",
       "    .dataframe tbody tr th {\n",
       "        vertical-align: top;\n",
       "    }\n",
       "\n",
       "    .dataframe thead th {\n",
       "        text-align: right;\n",
       "    }\n",
       "</style>\n",
       "<table border=\"1\" class=\"dataframe\">\n",
       "  <thead>\n",
       "    <tr style=\"text-align: right;\">\n",
       "      <th></th>\n",
       "      <th>age</th>\n",
       "      <th>sex</th>\n",
       "      <th>cp</th>\n",
       "      <th>trestbps</th>\n",
       "      <th>chol</th>\n",
       "      <th>fbs</th>\n",
       "      <th>restecg</th>\n",
       "      <th>thalach</th>\n",
       "      <th>exang</th>\n",
       "      <th>oldpeak</th>\n",
       "      <th>slope</th>\n",
       "      <th>ca</th>\n",
       "      <th>thal</th>\n",
       "    </tr>\n",
       "  </thead>\n",
       "  <tbody>\n",
       "    <tr>\n",
       "      <th>0</th>\n",
       "      <td>63</td>\n",
       "      <td>1</td>\n",
       "      <td>3</td>\n",
       "      <td>145</td>\n",
       "      <td>233</td>\n",
       "      <td>1</td>\n",
       "      <td>0</td>\n",
       "      <td>150</td>\n",
       "      <td>0</td>\n",
       "      <td>2.3</td>\n",
       "      <td>0</td>\n",
       "      <td>0</td>\n",
       "      <td>1</td>\n",
       "    </tr>\n",
       "    <tr>\n",
       "      <th>1</th>\n",
       "      <td>37</td>\n",
       "      <td>1</td>\n",
       "      <td>2</td>\n",
       "      <td>130</td>\n",
       "      <td>250</td>\n",
       "      <td>0</td>\n",
       "      <td>1</td>\n",
       "      <td>187</td>\n",
       "      <td>0</td>\n",
       "      <td>3.5</td>\n",
       "      <td>0</td>\n",
       "      <td>0</td>\n",
       "      <td>2</td>\n",
       "    </tr>\n",
       "    <tr>\n",
       "      <th>2</th>\n",
       "      <td>41</td>\n",
       "      <td>0</td>\n",
       "      <td>1</td>\n",
       "      <td>130</td>\n",
       "      <td>204</td>\n",
       "      <td>0</td>\n",
       "      <td>0</td>\n",
       "      <td>172</td>\n",
       "      <td>0</td>\n",
       "      <td>1.4</td>\n",
       "      <td>2</td>\n",
       "      <td>0</td>\n",
       "      <td>2</td>\n",
       "    </tr>\n",
       "    <tr>\n",
       "      <th>3</th>\n",
       "      <td>56</td>\n",
       "      <td>1</td>\n",
       "      <td>1</td>\n",
       "      <td>120</td>\n",
       "      <td>236</td>\n",
       "      <td>0</td>\n",
       "      <td>1</td>\n",
       "      <td>178</td>\n",
       "      <td>0</td>\n",
       "      <td>0.8</td>\n",
       "      <td>2</td>\n",
       "      <td>0</td>\n",
       "      <td>2</td>\n",
       "    </tr>\n",
       "    <tr>\n",
       "      <th>4</th>\n",
       "      <td>57</td>\n",
       "      <td>0</td>\n",
       "      <td>0</td>\n",
       "      <td>120</td>\n",
       "      <td>354</td>\n",
       "      <td>0</td>\n",
       "      <td>1</td>\n",
       "      <td>163</td>\n",
       "      <td>1</td>\n",
       "      <td>0.6</td>\n",
       "      <td>2</td>\n",
       "      <td>0</td>\n",
       "      <td>2</td>\n",
       "    </tr>\n",
       "  </tbody>\n",
       "</table>\n",
       "</div>"
      ],
      "text/plain": [
       "   age  sex  cp  trestbps  chol  fbs  restecg  thalach  exang  oldpeak  slope  \\\n",
       "0   63    1   3       145   233    1        0      150      0      2.3      0   \n",
       "1   37    1   2       130   250    0        1      187      0      3.5      0   \n",
       "2   41    0   1       130   204    0        0      172      0      1.4      2   \n",
       "3   56    1   1       120   236    0        1      178      0      0.8      2   \n",
       "4   57    0   0       120   354    0        1      163      1      0.6      2   \n",
       "\n",
       "   ca  thal  \n",
       "0   0     1  \n",
       "1   0     2  \n",
       "2   0     2  \n",
       "3   0     2  \n",
       "4   0     2  "
      ]
     },
     "execution_count": 2,
     "metadata": {},
     "output_type": "execute_result"
    }
   ],
   "source": [
    "heart_df = pd.read_csv('heart.csv')\n",
    "# Train data wordt gemaakt voor verder gebruik\n",
    "X_mf = heart_df.drop('target', axis=1)\n",
    "y_mf = heart_df[['target']]\n",
    "X_mf.head()"
   ]
  },
  {
   "cell_type": "code",
   "execution_count": 3,
   "metadata": {},
   "outputs": [
    {
     "data": {
      "text/html": [
       "<div>\n",
       "<style scoped>\n",
       "    .dataframe tbody tr th:only-of-type {\n",
       "        vertical-align: middle;\n",
       "    }\n",
       "\n",
       "    .dataframe tbody tr th {\n",
       "        vertical-align: top;\n",
       "    }\n",
       "\n",
       "    .dataframe thead th {\n",
       "        text-align: right;\n",
       "    }\n",
       "</style>\n",
       "<table border=\"1\" class=\"dataframe\">\n",
       "  <thead>\n",
       "    <tr style=\"text-align: right;\">\n",
       "      <th></th>\n",
       "      <th>target</th>\n",
       "    </tr>\n",
       "  </thead>\n",
       "  <tbody>\n",
       "    <tr>\n",
       "      <th>0</th>\n",
       "      <td>1</td>\n",
       "    </tr>\n",
       "    <tr>\n",
       "      <th>1</th>\n",
       "      <td>1</td>\n",
       "    </tr>\n",
       "    <tr>\n",
       "      <th>2</th>\n",
       "      <td>1</td>\n",
       "    </tr>\n",
       "    <tr>\n",
       "      <th>3</th>\n",
       "      <td>1</td>\n",
       "    </tr>\n",
       "    <tr>\n",
       "      <th>4</th>\n",
       "      <td>1</td>\n",
       "    </tr>\n",
       "  </tbody>\n",
       "</table>\n",
       "</div>"
      ],
      "text/plain": [
       "   target\n",
       "0       1\n",
       "1       1\n",
       "2       1\n",
       "3       1\n",
       "4       1"
      ]
     },
     "execution_count": 3,
     "metadata": {},
     "output_type": "execute_result"
    }
   ],
   "source": [
    "y_mf.head()"
   ]
  },
  {
   "cell_type": "markdown",
   "metadata": {},
   "source": [
    "In de lijst <b>zeroedout</b> staan alle row indices en kolomnamen die uit de dataset gehaald zijn."
   ]
  },
  {
   "cell_type": "code",
   "execution_count": 4,
   "metadata": {},
   "outputs": [
    {
     "data": {
      "text/plain": [
       "[(233, 'cp'),\n",
       " (259, 'sex'),\n",
       " (187, 'trestbps'),\n",
       " (131, 'ca'),\n",
       " (84, 'restecg'),\n",
       " (192, 'oldpeak'),\n",
       " (47, 'trestbps'),\n",
       " (105, 'restecg'),\n",
       " (220, 'exang'),\n",
       " (135, 'ca')]"
      ]
     },
     "execution_count": 4,
     "metadata": {},
     "output_type": "execute_result"
    }
   ],
   "source": [
    "zeroedout = []\n",
    "for i in range(int(X_mf.size * 0.3)):\n",
    "    row = random.randint(0, len(X_mf) - 1)\n",
    "    col = random.choice((X_mf).columns)\n",
    "    zeroedout.append((row, col))\n",
    "zeroedout[:10]"
   ]
  },
  {
   "cell_type": "markdown",
   "metadata": {},
   "source": [
    "### Laten we onze baseline zetten\n",
    "\n",
    "Hieronder veranderen we alle zeroedout cellen naar 0.<br>\n",
    "Daarna testen we welke score dit opleverd.<br>\n",
    "Dit levert een score op van <b>0.75</b>"
   ]
  },
  {
   "cell_type": "code",
   "execution_count": 5,
   "metadata": {},
   "outputs": [
    {
     "data": {
      "text/plain": [
       "RandomForestClassifier(bootstrap=True, ccp_alpha=0.0, class_weight=None,\n",
       "                       criterion='gini', max_depth=None, max_features='auto',\n",
       "                       max_leaf_nodes=None, max_samples=None,\n",
       "                       min_impurity_decrease=0.0, min_impurity_split=None,\n",
       "                       min_samples_leaf=1, min_samples_split=2,\n",
       "                       min_weight_fraction_leaf=0.0, n_estimators=100,\n",
       "                       n_jobs=None, oob_score=False, random_state=0, verbose=0,\n",
       "                       warm_start=False)"
      ]
     },
     "execution_count": 5,
     "metadata": {},
     "output_type": "execute_result"
    }
   ],
   "source": [
    "rfc = RandomForestClassifier(random_state=0)\n",
    "rfc"
   ]
  },
  {
   "cell_type": "code",
   "execution_count": 6,
   "metadata": {},
   "outputs": [
    {
     "data": {
      "text/plain": [
       "0.7763157894736842"
      ]
     },
     "execution_count": 6,
     "metadata": {},
     "output_type": "execute_result"
    }
   ],
   "source": [
    "for i in zeroedout:\n",
    "    index = i[0]\n",
    "    col = i[1]\n",
    "    X_mf[col][index] = 0\n",
    "\n",
    "X_train_mf, X_test_mf, y_train_mf, y_test_mf = train_test_split(X_mf, y_mf, random_state=0)\n",
    "rfc.fit(X_train_mf, y_train_mf)\n",
    "rfc.score(X_test_mf, y_test_mf)"
   ]
  },
  {
   "cell_type": "markdown",
   "metadata": {},
   "source": [
    "Probeer nu hetzelfde, maar verander dan alle zeroedout data naar het gemiddelde, mediaan en de modus.<br>\n",
    "Laat vervolgens de score voor elke soort zien."
   ]
  },
  {
   "cell_type": "code",
   "execution_count": 7,
   "metadata": {},
   "outputs": [],
   "source": [
    "# Mean"
   ]
  },
  {
   "cell_type": "code",
   "execution_count": 8,
   "metadata": {},
   "outputs": [],
   "source": [
    "# Mode"
   ]
  },
  {
   "cell_type": "code",
   "execution_count": 9,
   "metadata": {},
   "outputs": [],
   "source": [
    "# Median"
   ]
  },
  {
   "cell_type": "markdown",
   "metadata": {},
   "source": [
    "Over het algemeen is er nog een beter manier om een eerste schatting te maken, en dat is om het gemiddelde te pakken voor numerieke datapunten en de modus voor categoriale. Maar dan niet het gemiddelde en modus van de gehele dataset, maar van de datapunten met dezelfde target waarde.<br><br>\n",
    "\n",
    "De eerste stap is uitzoeken welke waarden categoriaal zijn. Zet deze in de lijst categorial_cols."
   ]
  },
  {
   "cell_type": "code",
   "execution_count": 10,
   "metadata": {},
   "outputs": [],
   "source": [
    "categorial_cols = []"
   ]
  },
  {
   "cell_type": "markdown",
   "metadata": {},
   "source": [
    "Vervolgens gaan we per zeroedoud datapunt kijken of het een categoriale waarde is.<br> Zo ja, pakken we de modus van alle waarden met target waarde. En zo nee, pakken we het gemiddelde van alle waarden met die target waarde.<br>\n",
    "Welke score komt er dan uit het model?"
   ]
  },
  {
   "cell_type": "code",
   "execution_count": 11,
   "metadata": {},
   "outputs": [],
   "source": [
    "for i in zeroedout:\n",
    "    index = i[0]\n",
    "    col = i[1]\n",
    "    # TODO"
   ]
  },
  {
   "cell_type": "markdown",
   "metadata": {},
   "source": [
    "# RFC.apply\n",
    "Nu we schattingen hebben ingevuld kunnen we de randomforest toepassen op alle data.<br>\n",
    "Dit doen we met de apply functie. Deze functie geeft een lijst terug met per tree bij welke leaf nodes alle rows terecht komen.<br>\n",
    "Standaard bij deze dataset kiest sklearn ervoor om 100 bomen te gebruiken. Dit zie je terug bij de shape[1] van de apply."
   ]
  },
  {
   "cell_type": "code",
   "execution_count": 12,
   "metadata": {},
   "outputs": [
    {
     "name": "stdout",
     "output_type": "stream",
     "text": [
      "(303, 100)\n"
     ]
    },
    {
     "data": {
      "text/plain": [
       "array([[52, 22, 38, ..., 59, 61, 36],\n",
       "       [95, 60, 32, ..., 76, 71, 53],\n",
       "       [35, 60, 77, ..., 59, 74, 53],\n",
       "       ...,\n",
       "       [52, 42, 73, ..., 54, 38, 97],\n",
       "       [81, 43, 31, ..., 22, 44, 26],\n",
       "       [46, 37, 16, ..., 66, 61, 53]], dtype=int64)"
      ]
     },
     "execution_count": 12,
     "metadata": {},
     "output_type": "execute_result"
    }
   ],
   "source": [
    "leaves = rfc.apply(X_mf)\n",
    "print(leaves.shape)\n",
    "leaves"
   ]
  },
  {
   "cell_type": "markdown",
   "metadata": {},
   "source": [
    "<b>Wanneer rows in dezelfde leaf node eindigen, definieren wij deze als soortgelijk.</b><br>\n",
    "Het is niet de bedoeling dat we hier met de hyperparameters gaan knoeien, omdat de proximity matrix dan sub-optimaal zou kunnen werken. Als er te weinig vergelijkbare rows zijn, is er vaak sprake van overfitting. Terwijl andersom vaak een teken is van underfitting. Maar dit is geen probleem met de standaard parameters.\n",
    "\n",
    "## Proximity Matrix\n",
    "We houden in een proximity matrix bij welke rows soortgelijk zijn aan anderen<br>\n",
    "Dus wanneer als voorbeeld regel 2 in dezelfde leaf node terecht komt als regel 3, Verhogen we deze cell met 1.<br>\n",
    "Een proximity matrix is altijd inverted hetzelfde. de x en y as zijn hieronder allebei de row index.<br>\n",
    "\n",
    "|   | 1 | 2 | 3 | 4 |\n",
    "|---|---|---|---|---|\n",
    "| 1 |   |   |   |   |\n",
    "| 2 |   |   | 1 |   |\n",
    "| 3 |   | 1 |   |   |\n",
    "| 4 |   |   |   |   |\n",
    "\n",
    "Optimaal zou zijn dat we maar een spiegelkant van de matrix zouden berekenen (en nog het liefst alleen de rows met missende data). Maar voor het programmeer gemak en duidelijkheid doen we ze allebei.\n",
    "\n",
    "De opdracht is om een matrix terug te geven die aangeeft tot hoeverre elke row gelijksoortig is aan elke andere row.<br>\n",
    "We doen dit door voor elke boom elke row met elke row te vergelijken en te kijken of deze in dezelfde leaf eindigt.\n",
    "\n",
    "Een goede indicatie of de matrix klopt, is het gegeven dat elke row altijd maximaal gelijksoortig is aan zichzelf.<br> Dit betekent dat er een diagonale lijn van linksboven naar rechtsonder aanwezig moet zijn.\n",
    "\n",
    "Ten slotte heeft de functie het argument \"normalize\". Wanneer deze True is, moeten alle proximities gedeeld door het aantal trees worden gedaan. Dit, zodat de hele matrix binnen de schaal van 0 (totaal verschillend) naar 1 (100% soortgelijk) valt. Om de laatste stap te doen (het toepassen van de matrix) moet de matrix eerst genormaliseerd zijn."
   ]
  },
  {
   "cell_type": "code",
   "execution_count": 16,
   "metadata": {},
   "outputs": [],
   "source": [
    "def proximityMatrix(model, X, normalize=True):\n",
    "     # Lijst met alle end nodes per row voor elke tree zoals hierboven uitgelegd.\n",
    "    leaves = model.apply(X)\n",
    "    \n",
    "    # Het aantal rows en trees in de dataset\n",
    "    n_rows = leaves.shape[0]\n",
    "    n_trees = leaves.shape[1]\n",
    "    \n",
    "    # De proximity matrix heeft een shape van NxN waar N het aantal rows zijn.\n",
    "    proximity_matrix = np.zeros([n_rows, n_rows])\n",
    "\n",
    "    for tree in leaves.T: # Voor elke boom\n",
    "        # TODO: Itereer door elke row in X, en itereer vervolgens weer door elke in X en kijk of ze \n",
    "        # allebei in dezelfde leaf node eindigen. Zo ja, increment de waarde in de proximity matrix cell dan met 1.\n",
    "        pass\n",
    "    return proximity_matrix"
   ]
  },
  {
   "cell_type": "code",
   "execution_count": 14,
   "metadata": {},
   "outputs": [
    {
     "data": {
      "image/png": "[encoded data removed]",
      "text/plain": [
       "<Figure size 432x288 with 2 Axes>"
      ]
     },
     "metadata": {
      "needs_background": "light"
     },
     "output_type": "display_data"
    }
   ],
   "source": [
    "plt.imshow(proximityMatrix(rfc, X_mf, normalize=True))\n",
    "plt.colorbar();"
   ]
  },
  {
   "cell_type": "markdown",
   "metadata": {},
   "source": [
    "## Het toepassen van de matrix\n",
    "Omdat wij denken dat het toepassen van de matrix te ingewikkeld is om binnen de scope van deze workshop te houden, hebben wij ervoor gekozen om de functie die de matrix toepast alvast in te vullen.\n",
    "\n",
    "Voor een duidelijke uitleg van wat er in deze functie gebeurt refereren we je naar de volgende zeer hulpzame [video](https://www.youtube.com/watch?v=sQ870aTKqiM)."
   ]
  },
  {
   "cell_type": "code",
   "execution_count": 15,
   "metadata": {},
   "outputs": [
    {
     "ename": "ValueError",
     "evalue": "Input contains NaN, infinity or a value too large for dtype('float32').",
     "output_type": "error",
     "traceback": [
      "\u001b[1;31m---------------------------------------------------------------------------\u001b[0m",
      "\u001b[1;31mValueError\u001b[0m                                Traceback (most recent call last)",
      "\u001b[1;32m<ipython-input-15-b56c9e3580f5>\u001b[0m in \u001b[0;36m<module>\u001b[1;34m\u001b[0m\n\u001b[0;32m     33\u001b[0m \u001b[1;33m\u001b[0m\u001b[0m\n\u001b[0;32m     34\u001b[0m     \u001b[0mX_train_mf\u001b[0m\u001b[1;33m,\u001b[0m \u001b[0mX_test_mf\u001b[0m\u001b[1;33m,\u001b[0m \u001b[0my_train_mf\u001b[0m\u001b[1;33m,\u001b[0m \u001b[0my_test_mf\u001b[0m \u001b[1;33m=\u001b[0m \u001b[0mtrain_test_split\u001b[0m\u001b[1;33m(\u001b[0m\u001b[0mX_mf\u001b[0m\u001b[1;33m,\u001b[0m \u001b[0my_mf\u001b[0m\u001b[1;33m,\u001b[0m \u001b[0mrandom_state\u001b[0m\u001b[1;33m=\u001b[0m\u001b[1;36m0\u001b[0m\u001b[1;33m)\u001b[0m\u001b[1;33m\u001b[0m\u001b[1;33m\u001b[0m\u001b[0m\n\u001b[1;32m---> 35\u001b[1;33m     \u001b[0mrfc\u001b[0m\u001b[1;33m.\u001b[0m\u001b[0mfit\u001b[0m\u001b[1;33m(\u001b[0m\u001b[0mX_train_mf\u001b[0m\u001b[1;33m,\u001b[0m \u001b[0my_train_mf\u001b[0m\u001b[1;33m)\u001b[0m\u001b[1;33m\u001b[0m\u001b[1;33m\u001b[0m\u001b[0m\n\u001b[0m\u001b[0;32m     36\u001b[0m     \u001b[0mprint\u001b[0m\u001b[1;33m(\u001b[0m\u001b[0mrfc\u001b[0m\u001b[1;33m.\u001b[0m\u001b[0mscore\u001b[0m\u001b[1;33m(\u001b[0m\u001b[0mX_test_mf\u001b[0m\u001b[1;33m,\u001b[0m \u001b[0my_test_mf\u001b[0m\u001b[1;33m)\u001b[0m\u001b[1;33m)\u001b[0m\u001b[1;33m\u001b[0m\u001b[1;33m\u001b[0m\u001b[0m\n",
      "\u001b[1;32mc:\\users\\roela\\appdata\\local\\programs\\python\\python37\\lib\\site-packages\\sklearn\\ensemble\\_forest.py\u001b[0m in \u001b[0;36mfit\u001b[1;34m(self, X, y, sample_weight)\u001b[0m\n\u001b[0;32m    293\u001b[0m         \"\"\"\n\u001b[0;32m    294\u001b[0m         \u001b[1;31m# Validate or convert input data\u001b[0m\u001b[1;33m\u001b[0m\u001b[1;33m\u001b[0m\u001b[1;33m\u001b[0m\u001b[0m\n\u001b[1;32m--> 295\u001b[1;33m         \u001b[0mX\u001b[0m \u001b[1;33m=\u001b[0m \u001b[0mcheck_array\u001b[0m\u001b[1;33m(\u001b[0m\u001b[0mX\u001b[0m\u001b[1;33m,\u001b[0m \u001b[0maccept_sparse\u001b[0m\u001b[1;33m=\u001b[0m\u001b[1;34m\"csc\"\u001b[0m\u001b[1;33m,\u001b[0m \u001b[0mdtype\u001b[0m\u001b[1;33m=\u001b[0m\u001b[0mDTYPE\u001b[0m\u001b[1;33m)\u001b[0m\u001b[1;33m\u001b[0m\u001b[1;33m\u001b[0m\u001b[0m\n\u001b[0m\u001b[0;32m    296\u001b[0m         \u001b[0my\u001b[0m \u001b[1;33m=\u001b[0m \u001b[0mcheck_array\u001b[0m\u001b[1;33m(\u001b[0m\u001b[0my\u001b[0m\u001b[1;33m,\u001b[0m \u001b[0maccept_sparse\u001b[0m\u001b[1;33m=\u001b[0m\u001b[1;34m'csc'\u001b[0m\u001b[1;33m,\u001b[0m \u001b[0mensure_2d\u001b[0m\u001b[1;33m=\u001b[0m\u001b[1;32mFalse\u001b[0m\u001b[1;33m,\u001b[0m \u001b[0mdtype\u001b[0m\u001b[1;33m=\u001b[0m\u001b[1;32mNone\u001b[0m\u001b[1;33m)\u001b[0m\u001b[1;33m\u001b[0m\u001b[1;33m\u001b[0m\u001b[0m\n\u001b[0;32m    297\u001b[0m         \u001b[1;32mif\u001b[0m \u001b[0msample_weight\u001b[0m \u001b[1;32mis\u001b[0m \u001b[1;32mnot\u001b[0m \u001b[1;32mNone\u001b[0m\u001b[1;33m:\u001b[0m\u001b[1;33m\u001b[0m\u001b[1;33m\u001b[0m\u001b[0m\n",
      "\u001b[1;32mc:\\users\\roela\\appdata\\local\\programs\\python\\python37\\lib\\site-packages\\sklearn\\utils\\validation.py\u001b[0m in \u001b[0;36mcheck_array\u001b[1;34m(array, accept_sparse, accept_large_sparse, dtype, order, copy, force_all_finite, ensure_2d, allow_nd, ensure_min_samples, ensure_min_features, warn_on_dtype, estimator)\u001b[0m\n\u001b[0;32m    576\u001b[0m         \u001b[1;32mif\u001b[0m \u001b[0mforce_all_finite\u001b[0m\u001b[1;33m:\u001b[0m\u001b[1;33m\u001b[0m\u001b[1;33m\u001b[0m\u001b[0m\n\u001b[0;32m    577\u001b[0m             _assert_all_finite(array,\n\u001b[1;32m--> 578\u001b[1;33m                                allow_nan=force_all_finite == 'allow-nan')\n\u001b[0m\u001b[0;32m    579\u001b[0m \u001b[1;33m\u001b[0m\u001b[0m\n\u001b[0;32m    580\u001b[0m     \u001b[1;32mif\u001b[0m \u001b[0mensure_min_samples\u001b[0m \u001b[1;33m>\u001b[0m \u001b[1;36m0\u001b[0m\u001b[1;33m:\u001b[0m\u001b[1;33m\u001b[0m\u001b[1;33m\u001b[0m\u001b[0m\n",
      "\u001b[1;32mc:\\users\\roela\\appdata\\local\\programs\\python\\python37\\lib\\site-packages\\sklearn\\utils\\validation.py\u001b[0m in \u001b[0;36m_assert_all_finite\u001b[1;34m(X, allow_nan, msg_dtype)\u001b[0m\n\u001b[0;32m     58\u001b[0m                     \u001b[0mmsg_err\u001b[0m\u001b[1;33m.\u001b[0m\u001b[0mformat\u001b[0m\u001b[1;33m\u001b[0m\u001b[1;33m\u001b[0m\u001b[0m\n\u001b[0;32m     59\u001b[0m                     (type_err,\n\u001b[1;32m---> 60\u001b[1;33m                      msg_dtype if msg_dtype is not None else X.dtype)\n\u001b[0m\u001b[0;32m     61\u001b[0m             )\n\u001b[0;32m     62\u001b[0m     \u001b[1;31m# for object dtype data, we only check for NaNs (GH-13254)\u001b[0m\u001b[1;33m\u001b[0m\u001b[1;33m\u001b[0m\u001b[1;33m\u001b[0m\u001b[0m\n",
      "\u001b[1;31mValueError\u001b[0m: Input contains NaN, infinity or a value too large for dtype('float32')."
     ]
    }
   ],
   "source": [
    "X_train_mf, X_test_mf, y_train_mf, y_test_mf = train_test_split(X_mf, y_mf, random_state=0)\n",
    "rfc.fit(X_train_mf, y_train_mf)\n",
    "rfc.score(X_test_mf, y_test_mf)\n",
    "\n",
    "for redo in range(7):\n",
    "    \n",
    "    matrix = proximityMatrix(rfc, X_mf)\n",
    "    for coord in zeroedout:\n",
    "\n",
    "        new_value = 0\n",
    "        sum_of_weights = sum(matrix[i[0]])\n",
    "        weights = {}\n",
    "        \n",
    "        if i[1] in categorial_cols:  # categorical\n",
    "            \n",
    "            for value, freq in X_mf[coord[1]].value_counts(normalize=True).items():\n",
    "                weight = 0\n",
    "                \n",
    "                for index, j in enumerate(matrix[coord[0]]):\n",
    "                    if X_mf[coord[1]][index] == value:\n",
    "                        weight += j\n",
    "                        \n",
    "                weights[value] = freq * (weight / sum_of_weights)\n",
    "                \n",
    "            new_value = max(weights.items(), key=operator.itemgetter(1))[0]\n",
    "\n",
    "        else:  # numerical\n",
    "        \n",
    "            for index, weight in enumerate(matrix[coord[0]]):\n",
    "                new_value += (weight / sum_of_weights) * X_mf[coord[1]][index]\n",
    "\n",
    "        X_mf[coord[1]][coord[0]] = new_value\n",
    "\n",
    "    X_train_mf, X_test_mf, y_train_mf, y_test_mf = train_test_split(X_mf, y_mf, random_state=0)\n",
    "    rfc.fit(X_train_mf, y_train_mf)\n",
    "    print(rfc.score(X_test_mf, y_test_mf))"
   ]
  }
 ],
 "metadata": {
  "kernelspec": {
   "display_name": "Python 3",
   "language": "python",
   "name": "python3"
  },
  "language_info": {
   "codemirror_mode": {
    "name": "ipython",
    "version": 3
   },
   "file_extension": ".py",
   "mimetype": "text/x-python",
   "name": "python",
   "nbconvert_exporter": "python",
   "pygments_lexer": "ipython3",
   "version": "3.7.6"
  }
 },
 "nbformat": 4,
 "nbformat_minor": 2
}
