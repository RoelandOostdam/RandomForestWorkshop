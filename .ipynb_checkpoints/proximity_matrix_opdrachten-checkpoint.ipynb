{
 "cells": [
  {
   "cell_type": "markdown",
   "metadata": {},
   "source": [
    "# Deel 2: Missing Values/Proximity Matrix\n",
    "Wat zijn de grote krachten van een randomforest? Dat het relatief minder uitmaakt als bij andere algoritmes dat de data schoon is. Hieronder gaan we een paar oefeningen doen om deze missende data zo goed mogelijk te interpreteren."
   ]
  },
  {
   "cell_type": "code",
   "execution_count": 2,
   "metadata": {},
   "outputs": [],
   "source": [
    "from IPython.display import clear_output\n",
    "import random\n",
    "import time\n",
    "random.seed(430)\n",
    "\n",
    "import numpy as np\n",
    "import pandas as pd\n",
    "import matplotlib.pyplot as plt\n",
    "import seaborn as sns\n",
    "\n",
    "from sklearn.metrics import accuracy_score\n",
    "from sklearn.ensemble import RandomForestClassifier\n",
    "from sklearn.model_selection import train_test_split\n",
    "\n",
    "import warnings\n",
    "warnings.simplefilter('ignore')"
   ]
  },
  {
   "cell_type": "markdown",
   "metadata": {},
   "source": [
    "We laden hier de heart-disease dataset in, maar we verwijderen allerlei random waarden in de test dataset.\n",
    "Wij gaan proberen om die waarden zo goed mogelijk in te vullen en een zo hoog mogelijke score te krijgen"
   ]
  },
  {
   "cell_type": "code",
   "execution_count": null,
   "metadata": {},
   "outputs": [],
   "source": [
    "df = pd.read_csv(\"dataset/heart.csv\")\n",
    "print(df.columns)\n",
    "df.head(5)"
   ]
  },
  {
   "cell_type": "code",
   "execution_count": null,
   "metadata": {},
   "outputs": [],
   "source": [
    "df = df[['sex','age','chol','trestbps','exang', 'target']]\n",
    "X_train, X_test, y_train, y_test = train_test_split(df.drop(columns=['target']), df['target'], test_size=80, random_state=99)"
   ]
  },
  {
   "cell_type": "code",
   "execution_count": null,
   "metadata": {},
   "outputs": [],
   "source": [
    "for index, row in X_test.iterrows():\n",
    "    for x in range(1):\n",
    "        col_to_clear = random.choice((X_test).columns)\n",
    "        X_test[col_to_clear][index] = np.nan"
   ]
  },
  {
   "cell_type": "code",
   "execution_count": null,
   "metadata": {},
   "outputs": [],
   "source": [
    "print(\"Train dataset size:\",X_train.shape[0])\n",
    "print(\"Test dataset size\", X_test.shape[0])"
   ]
  },
  {
   "cell_type": "markdown",
   "metadata": {},
   "source": [
    "Met deze functie kan je de accuracy testen van de missende waarden"
   ]
  },
  {
   "cell_type": "code",
   "execution_count": null,
   "metadata": {},
   "outputs": [],
   "source": [
    "clf = RandomForestClassifier(random_state=95, min_samples_split=10)\n",
    "clf.fit(X_train, y_train)\n",
    "clf"
   ]
  },
  {
   "cell_type": "code",
   "execution_count": null,
   "metadata": {},
   "outputs": [],
   "source": [
    "def test_model(clf, X_test, y_test):\n",
    "    y_pred = clf.predict(X_test)\n",
    "    return accuracy_score(y_pred, y_test)"
   ]
  },
  {
   "cell_type": "markdown",
   "metadata": {},
   "source": [
    "Hieronder zie je de testdata. Hierin mist in elke row een colom met data. Het algemene idee is dat we eerst een (waarschijnlijk) slechte schatting gaan maken, en deze dan gedurende wijs te verbeteren."
   ]
  },
  {
   "cell_type": "code",
   "execution_count": null,
   "metadata": {},
   "outputs": [],
   "source": [
    "X_test.head(10)"
   ]
  },
  {
   "cell_type": "code",
   "execution_count": null,
   "metadata": {},
   "outputs": [],
   "source": [
    "binary_columns = ['sex','exang']"
   ]
  },
  {
   "cell_type": "markdown",
   "metadata": {},
   "source": [
    "### Laten we onze baseline zetten\n",
    "Maak een kopie van X_test (<b>belangrijk: niet aanpassen hier</b>)<br>\n",
    "En verander alle NaN waarden in 0<br>\n",
    "Test vervolgens met de test_model function welke score je krijgt."
   ]
  },
  {
   "cell_type": "code",
   "execution_count": null,
   "metadata": {},
   "outputs": [],
   "source": [
    "# All nan values to 0\n",
    "new_X_test = np.copy(X_test)\n",
    "# TODO\n",
    "# test_model()"
   ]
  },
  {
   "cell_type": "markdown",
   "metadata": {},
   "source": [
    "### De eerste stap is een eerste simpele schatting maken\n",
    "Dit doen we door voor de binaire en categoriale waardes, de meest voorkomende waarde voor die target value in te vullen.<br>\n",
    "Voor de numerieke waardes pakken we het gemiddelde.<br><br>\n",
    "\n",
    "Het is dus de bedoeling dat je de X_test invult.\n",
    "Om te testen of het werkt kun je de functie test_model aanroepen.<br> \n",
    "Als je dit correct hebt gedaan zou het een score moeten opleveren van <b>0.8125</b><br>\n",
    "Het is ook handig om een lijst bij te houden met alle coordinaten en kolommen die worden aangepast, zodat het duidelijk blijft welke waarden de schattingen zijn."
   ]
  },
  {
   "cell_type": "code",
   "execution_count": null,
   "metadata": {},
   "outputs": [],
   "source": [
    "# All nan values to most common of that target\n",
    "change_list = []\n",
    "train_temp = X_train.join(y_train)\n",
    "test_temp = X_test.join(y_test)\n",
    "\n",
    "for index, row in test_temp.iterrows():\n",
    "    for col, value in row.iteritems():\n",
    "        if np.isnan(value):\n",
    "            # TODO\n",
    "            # Controleer eerst met de variabel binary_columns of de kolom binair is of niet\n",
    "            # Vul daarna de meest voorkomende of gemmidelde in voor die target in de cell en update X_test\n",
    "            # Zorg ervoor dat je in change_list bijhoudt welke kolommen en rows er zijn aangepast\n",
    "X_test.head(10)"
   ]
  },
  {
   "cell_type": "code",
   "execution_count": null,
   "metadata": {},
   "outputs": [],
   "source": [
    "# Controleer dan of je een betere score krijgt\n",
    "test_model(clf, X_test, y_test)"
   ]
  },
  {
   "cell_type": "markdown",
   "metadata": {},
   "source": [
    "# Proximity matrix\n",
    "Nu we schattingen hebben ingevuld kunnen we de randomforest toepassen op de X_test<br>\n",
    "Dit doen we met de apply functie. Deze functie geeft voor elke row terug bij welke leaf hij eindigt.<br>\n",
    "Het idee is dat wanneer rows in dezelfde leaf eindigen, deze soortgelijk zijn.<br><br>\n",
    "We houden in een proximity matrix bij welke rows gelijk zijn aan anderen<br>\n",
    "Dus wanneer als voorbeeld regel 2 in dezelfde leaf node terecht komt als regel 3, Verhogen we deze cell met 1.<br>\n",
    "Een proximity matrix is altijd inverted hetzelfde.\n",
    "\n",
    "|   | 1 | 2 | 3 | 4 |\n",
    "|---|---|---|---|---|\n",
    "| 1 |   |   |   |   |\n",
    "| 2 |   |   | 1 |   |\n",
    "| 3 |   | 1 |   |   |\n",
    "| 4 |   |   |   |   |\n",
    "\n",
    "Nadat de de hele proximity matrix hebt gevuld. Doe alle getallen in de matrix gedeeld door het aantal trees.<br>\n",
    "Plot hierna de matrix met plt.imshow()"
   ]
  },
  {
   "cell_type": "code",
   "execution_count": null,
   "metadata": {},
   "outputs": [],
   "source": [
    "df_full = pd.concat([X_train, X_test])\n",
    "leaves = clf.apply(df_full)\n",
    "n_trees = leaves.shape[1]\n",
    "proximity_matrix = np.zeros([leaves.shape[0], leaves.shape[0]])\n",
    "\n",
    "# TODO\n",
    "leaves"
   ]
  },
  {
   "cell_type": "code",
   "execution_count": null,
   "metadata": {},
   "outputs": [],
   "source": [
    "plt.figure(figsize=[15,10])\n",
    "proximity_matrix = np.zeros([leaves.shape[0], leaves.shape[0]])\n",
    "plt.imshow(proximity_matrix, aspect='auto', cmap='magma')\n",
    "plt.colorbar()"
   ]
  },
  {
   "cell_type": "markdown",
   "metadata": {},
   "source": [
    "# Toepassen van de matrix\n",
    "Nu de proximity matrix is gevuld, kan je deze gaan toepassen om de schattingen te verbeteren.<br>\n",
    "### Voor binaire waardes\n",
    "\\begin{align}\n",
    "Y = Fy \\cdot (Py \\div P ) \\\\\n",
    "\\end{align}\n",
    "F = frequentie van yes in de dataset<br>\n",
    "P = opgetelde proximities totaal of van een waarde<br>\n",
    "\n",
    "\n",
    "het percentage van \"ja\" * het gewicht voor ja<br>\n",
    "het gewicht voor ja = alle proximities voor \"ja\" / de totale proximities van de row\n",
    "\n",
    "### Voor numerieke waardes\n",
    "...\n"
   ]
  },
  {
   "cell_type": "code",
   "execution_count": null,
   "metadata": {},
   "outputs": [],
   "source": [
    "X_test_proximized = X_test.copy()\n",
    "\n",
    "for row in change_list:\n",
    "    \n",
    "    if col in binary_columns:\n",
    "        # TODO\n",
    "    else:\n",
    "        # TODO"
   ]
  },
  {
   "cell_type": "code",
   "execution_count": null,
   "metadata": {},
   "outputs": [],
   "source": [
    "test_model(clf, X_test_proximized, y_test)"
   ]
  }
 ],
 "metadata": {
  "kernelspec": {
   "display_name": "Python 3",
   "language": "python",
   "name": "python3"
  },
  "language_info": {
   "codemirror_mode": {
    "name": "ipython",
    "version": 3
   },
   "file_extension": ".py",
   "mimetype": "text/x-python",
   "name": "python",
   "nbconvert_exporter": "python",
   "pygments_lexer": "ipython3",
   "version": "3.7.6"
  }
 },
 "nbformat": 4,
 "nbformat_minor": 1
}
