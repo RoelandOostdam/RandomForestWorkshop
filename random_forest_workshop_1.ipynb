{
 "cells": [
  {
   "cell_type": "markdown",
   "metadata": {},
   "source": [
    "# Workshop Random Forest Classifier\n",
    "### Benodigde modules:\n",
    "- pandas\n",
    "- sklearn\n",
    "- matplotlib\n",
    "- Graphviz (Pas het path hieronder aan als nodig)"
   ]
  },
  {
   "cell_type": "code",
   "execution_count": 1,
   "metadata": {
    "pycharm": {
     "is_executing": true
    }
   },
   "outputs": [],
   "source": [
    "import pandas as pd\n",
    "import numpy as np\n",
    "import matplotlib.pyplot as plt\n",
    "import seaborn as sns\n",
    "import random\n",
    "from sklearn.ensemble import RandomForestClassifier\n",
    "from sklearn.datasets import make_classification\n",
    "from sklearn.preprocessing import OneHotEncoder\n",
    "from sklearn.model_selection import train_test_split\n",
    "from sklearn.metrics import confusion_matrix\n",
    "#from sklearn.metrics import plot_confusion_matrix\n",
    "from sklearn.tree import export_graphviz\n",
    "from subprocess import call\n",
    "from IPython.display import Image\n",
    "import os\n",
    "os.environ[\"PATH\"] += os.pathsep + 'C:/Program Files (x86)/Graphviz2.38/bin/'\n",
    "%matplotlib inline"
   ]
  },
  {
   "cell_type": "markdown",
   "metadata": {},
   "source": [
    "### Waarom zijn Random Forest Classifiers zo effectief?\n",
    "\n",
    "Random Forest Classifiers zijn een van meest succesvolle supervised classifying machine learning algoritmes. Dit heeft de maken met de manier waarop ze werken. Het idee achter dit algoritme is gerelateerd aan het divide and conquer principe. Door een probleem in meerdere problemen op te splitsen, kunnen veel betere resultaten behaald worden.\n",
    "\n",
    "Het divide and conquer principe kan goed uitgebeeld worden aan de hand van een spelletje. "
   ]
  },
  {
   "cell_type": "markdown",
   "metadata": {},
   "source": [
    "##### Spelregels:\n",
    "Genereer een random getal tussen de 0 en 1.\n",
    "Als het getal kleiner dan/gelijk aan 0.4 is dan verlies je het geld\n",
    "Als het getal groter dan 0.4 dan win je het geld\n",
    "\n",
    "##### Situaties:\n",
    "- 10 keer met 100 euro\n",
    "- 100 keer met 10 euro\n",
    "- 1000 keer met 1 euro\n",
    "\n",
    "In welk spelletje heb je de meeste winkans met de bovenstaande spelregels? Schrijf code om dit spelletje (x aantal keer) te kunnen spelen Simuleer elk van de drie situaties 10000 keer en plot de resultaten in een bar plot om te kijken hoevaak je in elk spelletje iets wint of verliest."
   ]
  },
  {
   "cell_type": "code",
   "execution_count": 40,
   "metadata": {},
   "outputs": [],
   "source": [
    "# to remove\n",
    "def win_money(play, money, repeat) -> [int]:\n",
    "    \n",
    "    total_results = []\n",
    "    \n",
    "    for r in range(repeat):\n",
    "        \n",
    "        game_result = 0\n",
    "        \n",
    "        for p in range(play):\n",
    "            \n",
    "            if random.random() <= 0.4:\n",
    "                game_result -= money\n",
    "            else:\n",
    "                game_result += money\n",
    "            \n",
    "        total_results.append(game_result)\n",
    "        \n",
    "    return total_results"
   ]
  },
  {
   "cell_type": "code",
   "execution_count": 45,
   "metadata": {},
   "outputs": [],
   "source": [
    "# to remove\n",
    "a = win_money(1, 100, 10000)\n",
    "b = win_money(10, 10, 10000)\n",
    "c = win_money(100, 1, 10000)"
   ]
  },
  {
   "cell_type": "code",
   "execution_count": 46,
   "metadata": {},
   "outputs": [],
   "source": [
    "# to remove\n",
    "a_ = pd.Series(a).value_counts()\n",
    "b_ = pd.Series(b).value_counts()\n",
    "c_ = pd.Series(c).value_counts()\n",
    "d_ = pd.Series(d).value_counts()"
   ]
  },
  {
   "cell_type": "code",
   "execution_count": 47,
   "metadata": {},
   "outputs": [
    {
     "data": {
      "image/png": "[encoded data removed]",
      "text/plain": [
       "<Figure size 864x432 with 1 Axes>"
      ]
     },
     "metadata": {
      "needs_background": "light"
     },
     "output_type": "display_data"
    }
   ],
   "source": [
    "# to remove\n",
    "plt.figure(figsize=(12,6))\n",
    "plt.bar(a_.index, a_)\n",
    "plt.bar(b_.index, b_)\n",
    "plt.bar(c_.index, c_)\n",
    "plt.bar(d_.index, d_)\n",
    "plt.show()"
   ]
  },
  {
   "cell_type": "markdown",
   "metadata": {},
   "source": [
    "### Hieronder staat een uitwerking van het voorbeeld van de presentatie\n",
    "We beginnen eerst met de dataset laden en de integers te converten naar float.\n",
    "\n",
    "Hieronder zie je hoe de train dataset eruit ziet"
   ]
  },
  {
   "cell_type": "code",
   "execution_count": null,
   "metadata": {
    "pycharm": {
     "is_executing": true
    }
   },
   "outputs": [],
   "source": [
    "df_train = pd.read_excel(\"dataset/fruits_train.xlsx\")\n",
    "df_test = pd.read_excel(\"dataset/fruits_test.xlsx\")\n",
    "\n",
    "train, test = df_train, df_test\n",
    "train['Diameter'] = pd.to_numeric(train['Diameter'], downcast='float')\n",
    "test['Diameter'] = pd.to_numeric(test['Diameter'], downcast='float')\n",
    "print('Number of observations in the training data:', len(train))\n",
    "print('Number of observations in the test data:',len(test))\n",
    "train"
   ]
  },
  {
   "cell_type": "markdown",
   "metadata": {},
   "source": [
    "#### Nu bepaal je wat de features en classes zijn"
   ]
  },
  {
   "cell_type": "code",
   "execution_count": null,
   "metadata": {
    "pycharm": {
     "is_executing": true
    }
   },
   "outputs": [],
   "source": [
    "features = ['Color', 'Diameter']\n",
    "classes = ['Apple','Orange','Cherries','Citrus']"
   ]
  },
  {
   "cell_type": "markdown",
   "metadata": {},
   "source": [
    "#### Strings worden niet geaccepteerd door de classifier. Dit betekend dat wij moeten factorizen of dummies genereren.\n",
    "Hieronder factorizen wij de kleuren naar:\n",
    "- Red = 0\n",
    "- Orange = 1\n",
    "- Yellow = 2"
   ]
  },
  {
   "cell_type": "code",
   "execution_count": null,
   "metadata": {
    "pycharm": {
     "is_executing": true
    }
   },
   "outputs": [],
   "source": [
    "train['Color'] = pd.factorize(train['Color'])[0]\n",
    "test['Color'] = pd.factorize(test['Color'])[0]\n",
    "# Target Feature\n",
    "y = pd.factorize(train['Label'])[0]\n",
    "\n",
    "print(train)\n",
    "print(test)"
   ]
  },
  {
   "cell_type": "markdown",
   "metadata": {},
   "source": [
    "### Dan definier je de RandomForestClassifier en voer je de fit uit\n",
    "In dit geval doen wij dat met 3 estimators (trees) en gebruiken entropie als meetstaaf in plaats van de gini-waarde"
   ]
  },
  {
   "cell_type": "code",
   "execution_count": null,
   "metadata": {
    "pycharm": {
     "is_executing": true
    }
   },
   "outputs": [],
   "source": [
    "clf = RandomForestClassifier(random_state=0, n_estimators=3, criterion='entropy')\n",
    "clf.fit(train[features], y)"
   ]
  },
  {
   "cell_type": "markdown",
   "metadata": {},
   "source": [
    "### Hier zie je welke trees eruit komen"
   ]
  },
  {
   "cell_type": "code",
   "execution_count": null,
   "metadata": {
    "pycharm": {
     "is_executing": true
    }
   },
   "outputs": [],
   "source": [
    "def export_graph(estimator):\n",
    "    # Export as dot file\n",
    "    export_graphviz(estimator, out_file='tree.dot', \n",
    "                    feature_names = features,\n",
    "                    class_names = classes,\n",
    "                    rounded = True, proportion = False, \n",
    "                    precision = 2, filled = True)\n",
    "\n",
    "    # Convert to png using system command (requires Graphviz)\n",
    "    call(['dot', '-Tpng', 'tree.dot', '-o', 'tree.png', '-Gdpi=600'])\n",
    "\n",
    "    # Display in jupyter notebook\n",
    "    Image(filename = 'tree.png')"
   ]
  },
  {
   "cell_type": "code",
   "execution_count": null,
   "metadata": {
    "pycharm": {
     "is_executing": true
    }
   },
   "outputs": [],
   "source": [
    "export_graph(clf.estimators_[0])\n",
    "Image(filename = 'tree.png')"
   ]
  },
  {
   "cell_type": "code",
   "execution_count": null,
   "metadata": {
    "pycharm": {
     "is_executing": true
    }
   },
   "outputs": [],
   "source": [
    "export_graph(clf.estimators_[1])\n",
    "Image(filename = 'tree.png')"
   ]
  },
  {
   "cell_type": "code",
   "execution_count": null,
   "metadata": {
    "pycharm": {
     "is_executing": true
    }
   },
   "outputs": [],
   "source": [
    "export_graph(clf.estimators_[2])\n",
    "Image(filename = 'tree.png')"
   ]
  },
  {
   "cell_type": "markdown",
   "metadata": {},
   "source": [
    "### De volgende stap is om te bepalen of het algoritme goed werkt\n",
    "De feature importances functie laat zien welke feature de grootste information gain haalt gemiddeld. Dit is interresant genoeg de diameter, ook al is de kleur discriminerender. Laat je hier dus niet door misinformeren. Verder wordt hier een score en confusion matrix (niet en wel genormaliseerd) neergezet."
   ]
  },
  {
   "cell_type": "code",
   "execution_count": null,
   "metadata": {
    "pycharm": {
     "is_executing": true
    }
   },
   "outputs": [],
   "source": [
    "clf.feature_importances_"
   ]
  },
  {
   "cell_type": "code",
   "execution_count": null,
   "metadata": {
    "pycharm": {
     "is_executing": true
    }
   },
   "outputs": [],
   "source": [
    "y_pred = clf.predict(test[features])\n",
    "y_true = pd.factorize(test['Label'])[0]\n",
    "print(y_pred)\n",
    "print(y_true)"
   ]
  },
  {
   "cell_type": "code",
   "execution_count": null,
   "metadata": {
    "pycharm": {
     "is_executing": true
    }
   },
   "outputs": [],
   "source": [
    "clf.score(test[features],y_true)"
   ]
  },
  {
   "cell_type": "code",
   "execution_count": null,
   "metadata": {
    "pycharm": {
     "is_executing": true
    }
   },
   "outputs": [],
   "source": [
    "plot_confusion_matrix(clf, test[features], y_true, display_labels=classes)"
   ]
  },
  {
   "cell_type": "code",
   "execution_count": null,
   "metadata": {
    "pycharm": {
     "is_executing": true
    }
   },
   "outputs": [],
   "source": [
    "plot_confusion_matrix(clf, test[features], y_true, display_labels=classes, normalize='true')"
   ]
  },
  {
   "cell_type": "markdown",
   "metadata": {},
   "source": [
    "# Hier begint de workshop\n",
    "We gaan beginnen met de wine dataset"
   ]
  },
  {
   "cell_type": "code",
   "execution_count": null,
   "metadata": {
    "pycharm": {
     "is_executing": true
    }
   },
   "outputs": [],
   "source": [
    "from sklearn.datasets import load_wine\n",
    "wine = load_wine()\n",
    "df = pd.DataFrame(data= np.c_[wine['data'], wine['target']],\n",
    "                     columns= wine['feature_names'] + ['target'])\n",
    "df.head()"
   ]
  },
  {
   "cell_type": "code",
   "execution_count": null,
   "metadata": {
    "pycharm": {
     "is_executing": true
    }
   },
   "outputs": [],
   "source": [
    "# features = [df.columns[:-1]][0]\n",
    "features = ['alcohol', 'malic_acid', 'ash']\n",
    "features"
   ]
  },
  {
   "cell_type": "code",
   "execution_count": null,
   "metadata": {
    "pycharm": {
     "is_executing": true
    }
   },
   "outputs": [],
   "source": [
    "clf = RandomForestClassifier(random_state=0, n_estimators=10, criterion='entropy')\n",
    "clf.fit(df[features], df['target'])"
   ]
  },
  {
   "cell_type": "code",
   "execution_count": null,
   "metadata": {
    "pycharm": {
     "is_executing": true
    }
   },
   "outputs": [],
   "source": [
    "y_pred = clf.predict(df[features])\n",
    "y_true = df['target']\n",
    "y_pred"
   ]
  },
  {
   "cell_type": "code",
   "execution_count": null,
   "metadata": {
    "pycharm": {
     "is_executing": true
    }
   },
   "outputs": [],
   "source": [
    "clf.score(df[features], df['target'])"
   ]
  },
  {
   "cell_type": "code",
   "execution_count": null,
   "metadata": {
    "pycharm": {
     "is_executing": true
    }
   },
   "outputs": [],
   "source": [
    "clf.feature_importances_"
   ]
  },
  {
   "cell_type": "code",
   "execution_count": null,
   "metadata": {
    "pycharm": {
     "is_executing": true
    }
   },
   "outputs": [],
   "source": [
    "plot_confusion_matrix(clf, df[features], y_true, normalize=None)"
   ]
  },
  {
   "cell_type": "markdown",
   "metadata": {},
   "source": [
    "# Missing Data"
   ]
  },
  {
   "cell_type": "code",
   "execution_count": null,
   "metadata": {},
   "outputs": [],
   "source": [
    "df_mis = df[100:110]\n",
    "df_mis"
   ]
  },
  {
   "cell_type": "code",
   "execution_count": null,
   "metadata": {
    "pycharm": {
     "is_executing": true
    }
   },
   "outputs": [],
   "source": [
    "from sklearn.impute import SimpleImputer"
   ]
  },
  {
   "cell_type": "code",
   "execution_count": null,
   "metadata": {
    "pycharm": {
     "is_executing": true
    }
   },
   "outputs": [],
   "source": [
    "imp_mean = SimpleImputer(missing_values=np.nan, strategy='mean')\n",
    "imp_mean.fit(df)\n",
    "\n",
    "\n",
    "print(imp_mean.transform(df))"
   ]
  }
 ],
 "metadata": {
  "kernelspec": {
   "display_name": "Python 3",
   "language": "python",
   "name": "python3"
  },
  "language_info": {
   "codemirror_mode": {
    "name": "ipython",
    "version": 3
   },
   "file_extension": ".py",
   "mimetype": "text/x-python",
   "name": "python",
   "nbconvert_exporter": "python",
   "pygments_lexer": "ipython3",
   "version": "3.7.1"
  }
 },
 "nbformat": 4,
 "nbformat_minor": 1
}
