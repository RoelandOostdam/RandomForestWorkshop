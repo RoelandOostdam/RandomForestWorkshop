{
 "cells": [
  {
   "cell_type": "code",
   "execution_count": 1,
   "metadata": {},
   "outputs": [],
   "source": [
    "import pandas as pd\n",
    "import matplotlib.pyplot as plt\n",
    "import random\n",
    "import warnings\n",
    "import numpy as np\n",
    "import seaborn as sns\n",
    "\n",
    "from sklearn.ensemble import RandomForestClassifier\n",
    "from sklearn.tree import DecisionTreeClassifier\n",
    "from sklearn.model_selection import train_test_split\n",
    "from sklearn.model_selection import GridSearchCV\n",
    "\n",
    "warnings.filterwarnings('ignore')"
   ]
  },
  {
   "cell_type": "markdown",
   "metadata": {},
   "source": [
    "# Random Forest Classifiers\n",
    "\n",
    "Welkom bij de workshop over Random Forest Classifiers. In dit notebook hopen we iets meer te vertellen over wat een Random Forest Classifier is, hoe het werkt en hoe het kan toegepast worden. Daarbij delen we de notebook op in 3 onderdelen:\n",
    "- Theorie\n",
    "- Parametrisering.\n",
    "- Vergelijking RFC met andere classifiers\n",
    "\n",
    "In de workshop van Huib is al het een en ander aan theorie behandeld. We zullen daarom op al behandelde stof niet al te diep ingaan maar de meeste belangrijk punten herhalen om het geheugen op te frissen. Random Forest Classifier wordt overigens door het notebook heen aangeduid met de afkorting RFC.\n",
    "\n",
    "We gebruiken een kleine dataset waarmee we een hartziekte kunnen voorspellen. Deze is hier te vinden:\n",
    "https://www.kaggle.com/ronitf/heart-disease-uci\n",
    "\n",
    "Als je klaar bent met deze notebook kan je naar NB2 gaan. Daar worden missende waardes behandeld."
   ]
  },
  {
   "cell_type": "markdown",
   "metadata": {},
   "source": [
    "## Inladen dataset"
   ]
  },
  {
   "cell_type": "code",
   "execution_count": 2,
   "metadata": {},
   "outputs": [
    {
     "data": {
      "text/html": [
       "<div>\n",
       "<style scoped>\n",
       "    .dataframe tbody tr th:only-of-type {\n",
       "        vertical-align: middle;\n",
       "    }\n",
       "\n",
       "    .dataframe tbody tr th {\n",
       "        vertical-align: top;\n",
       "    }\n",
       "\n",
       "    .dataframe thead th {\n",
       "        text-align: right;\n",
       "    }\n",
       "</style>\n",
       "<table border=\"1\" class=\"dataframe\">\n",
       "  <thead>\n",
       "    <tr style=\"text-align: right;\">\n",
       "      <th></th>\n",
       "      <th>age</th>\n",
       "      <th>sex</th>\n",
       "      <th>cp</th>\n",
       "      <th>trestbps</th>\n",
       "      <th>chol</th>\n",
       "      <th>fbs</th>\n",
       "      <th>restecg</th>\n",
       "      <th>thalach</th>\n",
       "      <th>exang</th>\n",
       "      <th>oldpeak</th>\n",
       "      <th>slope</th>\n",
       "      <th>ca</th>\n",
       "      <th>thal</th>\n",
       "      <th>target</th>\n",
       "    </tr>\n",
       "  </thead>\n",
       "  <tbody>\n",
       "    <tr>\n",
       "      <td>0</td>\n",
       "      <td>63</td>\n",
       "      <td>1</td>\n",
       "      <td>3</td>\n",
       "      <td>145</td>\n",
       "      <td>233</td>\n",
       "      <td>1</td>\n",
       "      <td>0</td>\n",
       "      <td>150</td>\n",
       "      <td>0</td>\n",
       "      <td>2.3</td>\n",
       "      <td>0</td>\n",
       "      <td>0</td>\n",
       "      <td>1</td>\n",
       "      <td>1</td>\n",
       "    </tr>\n",
       "    <tr>\n",
       "      <td>1</td>\n",
       "      <td>37</td>\n",
       "      <td>1</td>\n",
       "      <td>2</td>\n",
       "      <td>130</td>\n",
       "      <td>250</td>\n",
       "      <td>0</td>\n",
       "      <td>1</td>\n",
       "      <td>187</td>\n",
       "      <td>0</td>\n",
       "      <td>3.5</td>\n",
       "      <td>0</td>\n",
       "      <td>0</td>\n",
       "      <td>2</td>\n",
       "      <td>1</td>\n",
       "    </tr>\n",
       "    <tr>\n",
       "      <td>2</td>\n",
       "      <td>41</td>\n",
       "      <td>0</td>\n",
       "      <td>1</td>\n",
       "      <td>130</td>\n",
       "      <td>204</td>\n",
       "      <td>0</td>\n",
       "      <td>0</td>\n",
       "      <td>172</td>\n",
       "      <td>0</td>\n",
       "      <td>1.4</td>\n",
       "      <td>2</td>\n",
       "      <td>0</td>\n",
       "      <td>2</td>\n",
       "      <td>1</td>\n",
       "    </tr>\n",
       "    <tr>\n",
       "      <td>3</td>\n",
       "      <td>56</td>\n",
       "      <td>1</td>\n",
       "      <td>1</td>\n",
       "      <td>120</td>\n",
       "      <td>236</td>\n",
       "      <td>0</td>\n",
       "      <td>1</td>\n",
       "      <td>178</td>\n",
       "      <td>0</td>\n",
       "      <td>0.8</td>\n",
       "      <td>2</td>\n",
       "      <td>0</td>\n",
       "      <td>2</td>\n",
       "      <td>1</td>\n",
       "    </tr>\n",
       "    <tr>\n",
       "      <td>4</td>\n",
       "      <td>57</td>\n",
       "      <td>0</td>\n",
       "      <td>0</td>\n",
       "      <td>120</td>\n",
       "      <td>354</td>\n",
       "      <td>0</td>\n",
       "      <td>1</td>\n",
       "      <td>163</td>\n",
       "      <td>1</td>\n",
       "      <td>0.6</td>\n",
       "      <td>2</td>\n",
       "      <td>0</td>\n",
       "      <td>2</td>\n",
       "      <td>1</td>\n",
       "    </tr>\n",
       "  </tbody>\n",
       "</table>\n",
       "</div>"
      ],
      "text/plain": [
       "   age  sex  cp  trestbps  chol  fbs  restecg  thalach  exang  oldpeak  slope  \\\n",
       "0   63    1   3       145   233    1        0      150      0      2.3      0   \n",
       "1   37    1   2       130   250    0        1      187      0      3.5      0   \n",
       "2   41    0   1       130   204    0        0      172      0      1.4      2   \n",
       "3   56    1   1       120   236    0        1      178      0      0.8      2   \n",
       "4   57    0   0       120   354    0        1      163      1      0.6      2   \n",
       "\n",
       "   ca  thal  target  \n",
       "0   0     1       1  \n",
       "1   0     2       1  \n",
       "2   0     2       1  \n",
       "3   0     2       1  \n",
       "4   0     2       1  "
      ]
     },
     "execution_count": 2,
     "metadata": {},
     "output_type": "execute_result"
    }
   ],
   "source": [
    "heart_df = pd.read_csv('heart.csv')\n",
    "heart_df.head()"
   ]
  },
  {
   "cell_type": "code",
   "execution_count": 3,
   "metadata": {},
   "outputs": [],
   "source": [
    "# Train data wordt gemaakt voor verder gebruik\n",
    "X = heart_df.drop('target', axis=1)\n",
    "y = heart_df[['target']]\n",
    "X_train, X_test, y_train, y_test = train_test_split(X, y, random_state=0)"
   ]
  },
  {
   "cell_type": "markdown",
   "metadata": {},
   "source": [
    "## Theorie\n",
    "\n",
    "RFC is een machine learning algoritme wat gebruikt wordt om classificatie problemen op te lossen. Dit algoritme valt dus onder supervised machine learning.\n",
    "\n",
    "Een RFC is een verbetering/uitbreiding op het Decision Tree Classifier (DTC) algoritme. Een DTC wordt gemaakt door een boomstructuur met beslissingen te creeren. Hierbij wordt de structuur zo opgezet, dat elke scheiding per vertakking de grootste scheiding van informatie oplevert. Om tijdens het creeren van de boom steeds de beste scheiding van takken te kiezen wordt een methode (gini of entropie) gebruikt.\n",
    "\n",
    "Een RFC maakt gebruik van meerdere DTC's. Door verschillende DTC's op te zetten met random gegenereerde datasets uit een dataset kunnen betere resultaten behaald worden dan met 1 DTC. Dit genereren van random datasets heet 'bagging' en is ook naar voren gekomen in de vorige RFC workshop.\n",
    "\n",
    "Een RFC gaat uiteindelijk de uitkomsten van alle DTC's tellen en bepaalt met een 'majority vote' het meest gekozen resultaat. Deze manier van werken wordt het 'divide and conquer' of 'ensemble' principe genoemd. Door met meerdere bomen te werken kan een beter resultaat behaald worden. Hieronder is een spelletje het effect van dit principe te zien.\n",
    "\n",
    "##### Spelregels:\n",
    "Genereer een random getal tussen de 0 en 1.\n",
    "Als het getal kleiner dan/gelijk aan 0.4 is dan verlies je het geld\n",
    "Als het getal groter dan 0.4 dan win je het geld.\n",
    "Speel het spelletje 10000 keer.\n",
    "\n",
    "##### Situaties:\n",
    "- 1 keer met 100 euro\n",
    "- 10 keer met 10 euro\n",
    "- 100 keer met 1 euro\n",
    "\n",
    "Met welk spelletje zou je de meeste winkans hebben houdend aan bovenstaande spelregels?"
   ]
  },
  {
   "cell_type": "code",
   "execution_count": 4,
   "metadata": {},
   "outputs": [
    {
     "data": {
      "image/png": "[encoded data removed]",
      "text/plain": [
       "<Figure size 864x432 with 1 Axes>"
      ]
     },
     "metadata": {
      "needs_background": "light"
     },
     "output_type": "display_data"
    }
   ],
   "source": [
    "# todo?\n",
    "def win_money(play, money, repeat) -> [int]:\n",
    "    total_results = []\n",
    "    for r in range(repeat):\n",
    "        game_result = 0\n",
    "        for p in range(play):\n",
    "            if random.random() <= 0.4:\n",
    "                game_result -= money\n",
    "            else:\n",
    "                game_result += money\n",
    "        total_results.append(game_result)\n",
    "    return total_results\n",
    "\n",
    "a = pd.Series(win_money(1, 100, 10000)).value_counts()\n",
    "b = pd.Series(win_money(10, 10, 10000)).value_counts()\n",
    "c = pd.Series(win_money(100, 1, 10000)).value_counts()\n",
    "\n",
    "plt.figure(figsize=(12,6))\n",
    "plt.bar(a.index, a, label='1 keer met 100 euro')\n",
    "plt.bar(b.index, b, label='10 keer met 10 euro')\n",
    "plt.bar(c.index, c, label='100 keer met 1 euro')\n",
    "plt.legend()\n",
    "plt.show()"
   ]
  },
  {
   "cell_type": "markdown",
   "metadata": {},
   "source": [
    "Zoals in de bovenstaande grafiek te zien is, is de winkans groter bij het laatste spelletje, 100 keer 1 euro."
   ]
  },
  {
   "cell_type": "markdown",
   "metadata": {},
   "source": [
    "### Toepassingen in het bedrijfsleven\n",
    "\n",
    "RFC wordt in verschillende toepassingen gebruikt in het bedrijfsleven. Hieronder een aantal voorbeelden van hoe een RFC gebruikt kan worden.\n",
    "\n",
    "1. Om bij banken loyale en frauderende klanten te vinden\n",
    "2. Om invloed van medicijnen op patienten te voorspellen\n",
    "3. Analyse en voorspelling van beursgedrag\n",
    "4. Product- en dienstaanbevelingen\n",
    "5. En nog veel meer..."
   ]
  },
  {
   "cell_type": "markdown",
   "metadata": {},
   "source": [
    "## Parametrisering\n",
    "\n",
    "Om beter inzichtelijk te maken hoe een RFC werkt gaan we kijken naar een aantal parameters. We kijken hierbij vooral naar parameters die gemiddeld het vaakst invloed hebben op het model. Waarbij sommige parameters alleen op specifieke (grootte) datasets invloed hebben. Hieronder een aantal parameters van een RFC bij sklearn met uitleg en een opdracht.\n",
    "\n",
    "Train de gesplitte train en test data van boven in het notebook steeds per opdracht voor verschillende variabelen en gebruik de accuracy scores voor de opdrachten.\n",
    "\n",
    "#### Opdracht:\n",
    "\n",
    "Maak een RFC model en print de parameters die bij het model horen. Dit model kan je verder in het notebook nog gebruiken. "
   ]
  },
  {
   "cell_type": "code",
   "execution_count": 5,
   "metadata": {},
   "outputs": [],
   "source": [
    "# todo"
   ]
  },
  {
   "cell_type": "markdown",
   "metadata": {},
   "source": [
    "### n_estimators\n",
    "Het is de bedoeling dat je een zo simpel mogelijke forest bouwt die nog steeds de hoogste score haalt. Een te complexe forest zal niet snel overfitten (maar uiteindelijk wel, zeker in een te kleine dataset zoals deze), maar zal wel veel onnodige computaties vereisen. Een algemene regel is dat hoe meer estimators je toevoegd, hoe minder de gain wordt, maar hoe meer computaties er vereist zijn. <br>\n",
    "\n",
    "#### Opdracht:\n",
    "Laat met een grafiek zien bij hoeveel estimators er geen gain meer is. Test van 1 tot 200."
   ]
  },
  {
   "cell_type": "code",
   "execution_count": 6,
   "metadata": {},
   "outputs": [],
   "source": [
    "# todo"
   ]
  },
  {
   "cell_type": "markdown",
   "metadata": {},
   "source": [
    "### max_features\n",
    "De decision tree gaat 'max_features' (integer) aantal features overwegen om als nieuwe split te gebruiken door steeds de entropie of gini te berekenen. Standaard wordt de wortel van het aantal features als 'max_features' genomen. Als het verkleinen van max_features geen significant verschil in naukeurigheid aantoont, kan het verlagen voor performance winst zorgen omdat er minder features als nieuwe split uitgetest hoeven worden.<br>\n",
    "\n",
    "#### Opdracht\n",
    "Laat met een grafiek zien wat er gebeurd bij verschillende max_features."
   ]
  },
  {
   "cell_type": "code",
   "execution_count": 7,
   "metadata": {},
   "outputs": [],
   "source": [
    "# todo "
   ]
  },
  {
   "cell_type": "markdown",
   "metadata": {},
   "source": [
    "### max_depth\n",
    "max_depth geeft aan hoe diep de bomen mogen lopen. Te diepe bomen zorgen voor overfitting, terwijl te ondiepe bomen te weinig data encapsuleren en daardoor de accuracy tekort doen.\n",
    "\n",
    "#### Opdracht:\n",
    "Laat met een grafiek zien wat er gebeurd bij verschillende max_depth."
   ]
  },
  {
   "cell_type": "code",
   "execution_count": 8,
   "metadata": {},
   "outputs": [],
   "source": [
    "# todo  "
   ]
  },
  {
   "cell_type": "markdown",
   "metadata": {},
   "source": [
    "### min_samples_split\n",
    "min_samples_split vertegenwoordigt het minimum aantal samples dat nodig is om een intern knooppunt te splitsen. Dit kan variëren van het beschouwen van ten minste één monster op elk knooppunt tot het beschouwen van alle monsters op elk knooppunt. Wanneer we deze parameter verhogen, wordt elke boom in het bos meer beperkt, omdat er bij elk knooppunt meer voorbeelden moeten worden overwogen. Als er weinig data is, zoals in de dataset die wij nu gebruiken, is het handig om deze laag te houden aangezien er sowieso weinig samples zijn.\n",
    "\n",
    "#### Opdracht:\n",
    "Laat met een grafiek zien wat er gebeurd bij min_samples_split van 1-20."
   ]
  },
  {
   "cell_type": "code",
   "execution_count": 9,
   "metadata": {},
   "outputs": [],
   "source": [
    "# todo"
   ]
  },
  {
   "cell_type": "markdown",
   "metadata": {},
   "source": [
    "### min_samples_leaf\n",
    "min_samples_leaf is het minimum aantal samples dat nodig is om op een leaf node te zijn. Deze parameter is vergelijkbaar met min_samples_splits, maar dit beschrijft het minimale aantal monsters van monsters aan de bladeren. Het uiteinde van de boom.\n",
    "\n",
    "#### Opdracht:\n",
    "Laat met een grafiek zien wat er gebeurd bij min_samples_leaf van 1-20."
   ]
  },
  {
   "cell_type": "code",
   "execution_count": 10,
   "metadata": {},
   "outputs": [],
   "source": [
    "# todo"
   ]
  },
  {
   "cell_type": "markdown",
   "metadata": {},
   "source": [
    "### criterion:\n",
    "In de workshop van Huib hebben we al gezien wat het verschil is tussen de gini index en entropie. De gini index en entropie zijn beide wiskundige functies om de beste split in informatie te bepalen.\n",
    "\n",
    "Gini:\n",
    "- 1 - $\\sum_{j=1}^{c} P{j}^{2}$\n",
    "\n",
    "Entropie:\n",
    "- \\- $\\sum_{j=1}^{c} P{j}^{log p{j}}$\n",
    "\n",
    "https://stackoverflow.com/questions/46480457/difference-between-min-samples-split-and-min-samples-leaf-in-sklearn-decisiontre\n",
    "\n",
    "Beide functies hebben over het algemeen geen significant verschil in resultaat. Het grootste verschil tussen gini en entropie is de runtime. Entropie bevat in tegenstelling tot gini een logaritmische functie waardoor runtimes hoger liggen. Daarom heeft sklearn gini als standaard staan.\n",
    "\n",
    "#### Opdracht:\n",
    "\n",
    "Vergelijk de score van het model voor parameter criterion 'gini' en 'entropy'. Als je random_state voor het model niet op 0 zet, neem dan het gemiddelde van verschillende tests. Wat is het verschil in accuracy? Geef ook aan hoe lang elke soort er over doet."
   ]
  },
  {
   "cell_type": "code",
   "execution_count": 11,
   "metadata": {},
   "outputs": [],
   "source": [
    "# todo"
   ]
  },
  {
   "cell_type": "markdown",
   "metadata": {},
   "source": [
    "### Grid Search:\n",
    "\n",
    "Een van de manieren om snel de beste parameters voor jouw model te vinden is door gebruik te maken van een grid search. Deze functie gaat alle mogelijk modellen af met de verschillende parameters die opgegeven zijn. Vervolgens kan met een aantal functies een aantal dingen opgevraagd worden zoals de beste parameters of de score voor de beste parameters. Voor alle parameters kan je naar de website van sklearn gaan:\n",
    "https://scikit-learn.org/stable/modules/generated/sklearn.model_selection.GridSearchCV.html\n",
    "\n",
    "#### Opdracht:\n",
    "- instantiëer een RFC model\n",
    "- maak een dict met parameters die je wilt testen met verschillende waardes per parameter in een lijst als value.\n",
    "- instantiëer een GridSearchCV model en fit deze op de traindata\n",
    "- vraag beste parameters op voor combinatie met hoogste score"
   ]
  },
  {
   "cell_type": "code",
   "execution_count": 12,
   "metadata": {},
   "outputs": [],
   "source": [
    "# todo"
   ]
  },
  {
   "cell_type": "markdown",
   "metadata": {},
   "source": [
    "Het kan zijn dat je bij weinig succes had bij het veranderen van de parameters en dat de standaard parameters in de meeste gevallen het best werkte. Dit heeft onder andere te maken met de grootte van de dataset. Daarnaast hebben we niks gedaan aan coorelatie onderzoek of kolomselectie. De dataset is niet aangepast. Als je nog tijd over hebt kan je kijken of het verbeteren van het dataframe andere resultaten oplevert."
   ]
  },
  {
   "cell_type": "markdown",
   "metadata": {},
   "source": [
    "## Vergelijking RFC en Decision Tree Classifier\n",
    "\n",
    "#### Opdracht:\n",
    "\n",
    "Om te zien of een RFC ook voor de gebruikte dataset een beter model biedt dan een DTC kunnen we de scores vergelijken. Het vergelijken van scores kan heel simpel zonder parameters te gebruiken of door eerst te zoeken naar de beste hyperparameters voor beide modellen.\n",
    "\n",
    "Maak een RFC en DTC model en fit de traindata. Vergelijk de scores van beide modellen. (je kan ervoor kiezen om verschillende hyperparameters te testen maar dit hoeft niet) Gebruik wel random_state=0."
   ]
  },
  {
   "cell_type": "code",
   "execution_count": 13,
   "metadata": {},
   "outputs": [],
   "source": [
    "# todo"
   ]
  },
  {
   "cell_type": "markdown",
   "metadata": {},
   "source": [
    "Met de testen die wij hebben uitgevoerd kwamen we op een iets hogere score uit bij een RFC. Dit is ook te verwachten aangezien een RFC in feite een verbetering is op een DTC. Het ligt wel aan de dataset waarop je wilt trainen. Bij kleinere datasets is het verstandiger om een RFC te gebruiken zoals de dataset die we in dit notebook gebruiken. Dit heeft weer te maken met het 'ensemble' principe. Hoe meer mensen naar hetzelfde (of een deel van het) probleem kijken, hoe beter de uitkomst.\n",
    "\n",
    "Bij grotere datasets is het verstandiger om een DTC te gebruiken (mits het verschil in score niet noemenswaardig is) Dit heeft te maken met een van de nadelen van een RFC. Een RFC is namelijk een van de traagste machine learning algoritmes. Een DTC is ook niet het meeste snelle algoritme alleen wel sneller dan een RFC."
   ]
  },
  {
   "cell_type": "markdown",
   "metadata": {},
   "source": [
    "### Bronnen:\n",
    "https://datascience.stackexchange.com/questions/10228/when-should-i-use-gini-impurity-as-opposed-to-information-gain\n",
    "https://scikit-learn.org/stable/modules/generated/sklearn.model_selection.GridSearchCV.html\n",
    "https://scikit-learn.org/stable/modules/generated/sklearn.ensemble.RandomForestClassifier.html?highlight=randomforest#sklearn.ensemble.RandomForestClassifier\n",
    "https://scikit-learn.org/stable/modules/generated/sklearn.tree.DecisionTreeClassifier.html\n",
    "https://towardsdatascience.com/hyperparameter-tuning-the-random-forest-in-python-using-scikit-learn-28d2aa77dd74\n",
    "https://medium.com/all-things-ai/in-depth-parameter-tuning-for-random-forest-d67bb7e920d\n",
    "https://www.youtube.com/watch?v=sQ870aTKqiM"
   ]
  }
 ],
 "metadata": {
  "kernelspec": {
   "display_name": "Python 3",
   "language": "python",
   "name": "python3"
  },
  "language_info": {
   "codemirror_mode": {
    "name": "ipython",
    "version": 3
   },
   "file_extension": ".py",
   "mimetype": "text/x-python",
   "name": "python",
   "nbconvert_exporter": "python",
   "pygments_lexer": "ipython3",
   "version": "3.7.4"
  }
 },
 "nbformat": 4,
 "nbformat_minor": 2
}
